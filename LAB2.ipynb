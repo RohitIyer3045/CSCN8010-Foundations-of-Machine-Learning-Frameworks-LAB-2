{
 "cells": [
  {
   "cell_type": "markdown",
   "id": "99c1f11f",
   "metadata": {},
   "source": [
    "# LAB 2 - MULTIVARIATE REGRESSION, NON-PARAMETRIC MODELS AND CROSS-VALIDATION"
   ]
  },
  {
   "cell_type": "markdown",
   "id": "1d07231d",
   "metadata": {},
   "source": [
    "## Step 1: Get the Data\n",
    "We’ll use the built-in Diabetes dataset from Scikit-Learn.  \n",
    "This dataset contains ten baseline variables (age, sex, BMI, blood pressure, and six blood serum measurements) for 442 patients, along with a target variable: a quantitative measure of disease progression one year after baseline. "
   ]
  },
  {
   "cell_type": "code",
   "execution_count": 3,
   "id": "b86c00af",
   "metadata": {},
   "outputs": [
    {
     "name": "stdout",
     "output_type": "stream",
     "text": [
      "Diabetes Dataset\n"
     ]
    },
    {
     "data": {
      "application/vnd.microsoft.datawrangler.viewer.v0+json": {
       "columns": [
        {
         "name": "index",
         "rawType": "int64",
         "type": "integer"
        },
        {
         "name": "age",
         "rawType": "float64",
         "type": "float"
        },
        {
         "name": "sex",
         "rawType": "float64",
         "type": "float"
        },
        {
         "name": "bmi",
         "rawType": "float64",
         "type": "float"
        },
        {
         "name": "bp",
         "rawType": "float64",
         "type": "float"
        },
        {
         "name": "s1",
         "rawType": "float64",
         "type": "float"
        },
        {
         "name": "s2",
         "rawType": "float64",
         "type": "float"
        },
        {
         "name": "s3",
         "rawType": "float64",
         "type": "float"
        },
        {
         "name": "s4",
         "rawType": "float64",
         "type": "float"
        },
        {
         "name": "s5",
         "rawType": "float64",
         "type": "float"
        },
        {
         "name": "s6",
         "rawType": "float64",
         "type": "float"
        },
        {
         "name": "target",
         "rawType": "float64",
         "type": "float"
        }
       ],
       "ref": "b50ce26e-d38a-4553-a1a1-3a070e44def4",
       "rows": [
        [
         "0",
         "0.038075906433423026",
         "0.05068011873981862",
         "0.061696206518683294",
         "0.0218723855140367",
         "-0.04422349842444599",
         "-0.03482076283769895",
         "-0.04340084565202491",
         "-0.002592261998183278",
         "0.019907486170462722",
         "-0.01764612515980379",
         "151.0"
        ],
        [
         "1",
         "-0.0018820165277906047",
         "-0.044641636506989144",
         "-0.051474061238800654",
         "-0.02632752814785296",
         "-0.008448724111216851",
         "-0.019163339748222204",
         "0.07441156407875721",
         "-0.03949338287409329",
         "-0.0683315470939731",
         "-0.092204049626824",
         "75.0"
        ],
        [
         "2",
         "0.08529890629667548",
         "0.05068011873981862",
         "0.04445121333659049",
         "-0.00567042229275739",
         "-0.04559945128264711",
         "-0.03419446591411989",
         "-0.03235593223976409",
         "-0.002592261998183278",
         "0.002861309289833047",
         "-0.025930338989472702",
         "141.0"
        ],
        [
         "3",
         "-0.0890629393522567",
         "-0.044641636506989144",
         "-0.011595014505211082",
         "-0.03665608107540074",
         "0.01219056876179996",
         "0.02499059336410222",
         "-0.036037570043851025",
         "0.03430885887772673",
         "0.022687744966501246",
         "-0.009361911330134878",
         "206.0"
        ],
        [
         "4",
         "0.005383060374248237",
         "-0.044641636506989144",
         "-0.03638469220446948",
         "0.0218723855140367",
         "0.003934851612593237",
         "0.015596139510416171",
         "0.008142083605192267",
         "-0.002592261998183278",
         "-0.03198763948805312",
         "-0.04664087356364498",
         "135.0"
        ]
       ],
       "shape": {
        "columns": 11,
        "rows": 5
       }
      },
      "text/html": [
       "<div>\n",
       "<style scoped>\n",
       "    .dataframe tbody tr th:only-of-type {\n",
       "        vertical-align: middle;\n",
       "    }\n",
       "\n",
       "    .dataframe tbody tr th {\n",
       "        vertical-align: top;\n",
       "    }\n",
       "\n",
       "    .dataframe thead th {\n",
       "        text-align: right;\n",
       "    }\n",
       "</style>\n",
       "<table border=\"1\" class=\"dataframe\">\n",
       "  <thead>\n",
       "    <tr style=\"text-align: right;\">\n",
       "      <th></th>\n",
       "      <th>age</th>\n",
       "      <th>sex</th>\n",
       "      <th>bmi</th>\n",
       "      <th>bp</th>\n",
       "      <th>s1</th>\n",
       "      <th>s2</th>\n",
       "      <th>s3</th>\n",
       "      <th>s4</th>\n",
       "      <th>s5</th>\n",
       "      <th>s6</th>\n",
       "      <th>target</th>\n",
       "    </tr>\n",
       "  </thead>\n",
       "  <tbody>\n",
       "    <tr>\n",
       "      <th>0</th>\n",
       "      <td>0.038076</td>\n",
       "      <td>0.050680</td>\n",
       "      <td>0.061696</td>\n",
       "      <td>0.021872</td>\n",
       "      <td>-0.044223</td>\n",
       "      <td>-0.034821</td>\n",
       "      <td>-0.043401</td>\n",
       "      <td>-0.002592</td>\n",
       "      <td>0.019907</td>\n",
       "      <td>-0.017646</td>\n",
       "      <td>151.0</td>\n",
       "    </tr>\n",
       "    <tr>\n",
       "      <th>1</th>\n",
       "      <td>-0.001882</td>\n",
       "      <td>-0.044642</td>\n",
       "      <td>-0.051474</td>\n",
       "      <td>-0.026328</td>\n",
       "      <td>-0.008449</td>\n",
       "      <td>-0.019163</td>\n",
       "      <td>0.074412</td>\n",
       "      <td>-0.039493</td>\n",
       "      <td>-0.068332</td>\n",
       "      <td>-0.092204</td>\n",
       "      <td>75.0</td>\n",
       "    </tr>\n",
       "    <tr>\n",
       "      <th>2</th>\n",
       "      <td>0.085299</td>\n",
       "      <td>0.050680</td>\n",
       "      <td>0.044451</td>\n",
       "      <td>-0.005670</td>\n",
       "      <td>-0.045599</td>\n",
       "      <td>-0.034194</td>\n",
       "      <td>-0.032356</td>\n",
       "      <td>-0.002592</td>\n",
       "      <td>0.002861</td>\n",
       "      <td>-0.025930</td>\n",
       "      <td>141.0</td>\n",
       "    </tr>\n",
       "    <tr>\n",
       "      <th>3</th>\n",
       "      <td>-0.089063</td>\n",
       "      <td>-0.044642</td>\n",
       "      <td>-0.011595</td>\n",
       "      <td>-0.036656</td>\n",
       "      <td>0.012191</td>\n",
       "      <td>0.024991</td>\n",
       "      <td>-0.036038</td>\n",
       "      <td>0.034309</td>\n",
       "      <td>0.022688</td>\n",
       "      <td>-0.009362</td>\n",
       "      <td>206.0</td>\n",
       "    </tr>\n",
       "    <tr>\n",
       "      <th>4</th>\n",
       "      <td>0.005383</td>\n",
       "      <td>-0.044642</td>\n",
       "      <td>-0.036385</td>\n",
       "      <td>0.021872</td>\n",
       "      <td>0.003935</td>\n",
       "      <td>0.015596</td>\n",
       "      <td>0.008142</td>\n",
       "      <td>-0.002592</td>\n",
       "      <td>-0.031988</td>\n",
       "      <td>-0.046641</td>\n",
       "      <td>135.0</td>\n",
       "    </tr>\n",
       "  </tbody>\n",
       "</table>\n",
       "</div>"
      ],
      "text/plain": [
       "        age       sex       bmi        bp        s1        s2        s3  \\\n",
       "0  0.038076  0.050680  0.061696  0.021872 -0.044223 -0.034821 -0.043401   \n",
       "1 -0.001882 -0.044642 -0.051474 -0.026328 -0.008449 -0.019163  0.074412   \n",
       "2  0.085299  0.050680  0.044451 -0.005670 -0.045599 -0.034194 -0.032356   \n",
       "3 -0.089063 -0.044642 -0.011595 -0.036656  0.012191  0.024991 -0.036038   \n",
       "4  0.005383 -0.044642 -0.036385  0.021872  0.003935  0.015596  0.008142   \n",
       "\n",
       "         s4        s5        s6  target  \n",
       "0 -0.002592  0.019907 -0.017646   151.0  \n",
       "1 -0.039493 -0.068332 -0.092204    75.0  \n",
       "2 -0.002592  0.002861 -0.025930   141.0  \n",
       "3  0.034309  0.022688 -0.009362   206.0  \n",
       "4 -0.002592 -0.031988 -0.046641   135.0  "
      ]
     },
     "execution_count": 3,
     "metadata": {},
     "output_type": "execute_result"
    }
   ],
   "source": [
    "import pandas as pd\n",
    "import numpy as np\n",
    "from sklearn.datasets import load_diabetes\n",
    "\n",
    "# Load the Diabetes dataset\n",
    "diabetes = load_diabetes()\n",
    "\n",
    "# Convert to Dataframe\n",
    "df = pd.DataFrame(diabetes.data, columns=diabetes.feature_names)\n",
    "df['target'] = diabetes.target\n",
    "\n",
    "print(\"Diabetes Dataset\")\n",
    "df.head()"
   ]
  },
  {
   "cell_type": "markdown",
   "id": "c21d1aec",
   "metadata": {},
   "source": [
    "### Talking Points:\n",
    "\n",
    "1. **Built-in Dataset:** No external files or calling in an API, can be loaded instantly for reproducible results.\n",
    "2. **Features + Target:** Ten input features predict a single continuous target (disease progression).\n",
    "3. **DataFrame Conversion:** Converting the data to pandas dataframe allows direct use in EDA, statistical tests, or ML modeling."
   ]
  },
  {
   "cell_type": "markdown",
   "id": "0dccdebb",
   "metadata": {},
   "source": [
    "## Step 2: Frame the Problem\n",
    "We are predicting the **disease progression** of diabetes patients **one year after baseline** using ten baseline physiological variables.\n",
    "\n",
    "### Problem Type\n",
    "This is a **supervised machine learning** problem with a **continuous target variable** — the disease progression score — so it is a **regression problem**.\n",
    "\n",
    "### Input (Independent Variables)\n",
    "The features include:\n",
    "- Age  \n",
    "- Sex  \n",
    "- Body mass index (bmi)  \n",
    "- Average blood pressure (bp)  \n",
    "- Six blood serum measurements (s1 to s6)\n",
    "\n",
    "These represent each patient's health metrics at baseline.\n",
    "\n",
    "### Output (Dependent Variable)\n",
    "The target, `diabetes.target`, measures **how much the disease has progressed** after one year.  \n",
    "It’s a numeric score roughly between **25 and 346**.\n",
    "\n",
    "### Objective\n",
    "Build a model that can **predict future disease progression** from baseline measurements.  \n",
    "This could help doctors or researchers:\n",
    "- Identify high-risk patients early,  \n",
    "- Personalize treatment plans, and  \n",
    "- Understand which health indicators most influence progression.\n",
    "\n",
    "### Learning Task Summary\n",
    "| Category | Description |\n",
    "|-----------|--------------|\n",
    "| **Type** | Supervised Regression |\n",
    "| **Target Variable** | Disease progression after one year |\n",
    "| **Goal** | Minimize prediction error between model output and true progression values |\n",
    "| **Evaluation Metrics** | Mean Squared Error (MSE), Mean Absolute Error (MAE), R² Score |"
   ]
  },
  {
   "cell_type": "markdown",
   "id": "277dbe1b",
   "metadata": {},
   "source": [
    "### Talking Points\n",
    "\n",
    "1. **Problem Nature:** It’s a regression task, not classification. Here, we’re predicting a continuous disease progression score.\n",
    "2. **Business Relevance:** Helps identify early intervention opportunities by forecasting progression based on current health markers.\n",
    "3. **Modeling Goal:** Build and evaluate a predictive model that minimizes prediction error (e.g., RMSE or MAE)."
   ]
  },
  {
   "cell_type": "markdown",
   "id": "88893f0f",
   "metadata": {},
   "source": [
    "# Step 3: Explore the Data\n",
    "\n",
    "Exploratory Data Analysis helps us understand:\n",
    "\n",
    "1. **Data Shape and Structure** – Number of rows, columns, and datatypes  \n",
    "2. **Statistical Summary** – Mean, median, standard deviation, etc.  \n",
    "3. **Missing Values** – Verify data completeness  \n",
    "4. **Feature Distributions** – Spot skewness or outliers  \n",
    "5. **Relationships** – Correlation between features and the target (`disease progression`)"
   ]
  },
  {
   "cell_type": "code",
   "execution_count": 1,
   "id": "86d80c64",
   "metadata": {},
   "outputs": [
    {
     "name": "stdout",
     "output_type": "stream",
     "text": [
      "Diabetes Dataset\n"
     ]
    },
    {
     "data": {
      "application/vnd.microsoft.datawrangler.viewer.v0+json": {
       "columns": [
        {
         "name": "index",
         "rawType": "int64",
         "type": "integer"
        },
        {
         "name": "age",
         "rawType": "float64",
         "type": "float"
        },
        {
         "name": "sex",
         "rawType": "float64",
         "type": "float"
        },
        {
         "name": "bmi",
         "rawType": "float64",
         "type": "float"
        },
        {
         "name": "bp",
         "rawType": "float64",
         "type": "float"
        },
        {
         "name": "s1",
         "rawType": "float64",
         "type": "float"
        },
        {
         "name": "s2",
         "rawType": "float64",
         "type": "float"
        },
        {
         "name": "s3",
         "rawType": "float64",
         "type": "float"
        },
        {
         "name": "s4",
         "rawType": "float64",
         "type": "float"
        },
        {
         "name": "s5",
         "rawType": "float64",
         "type": "float"
        },
        {
         "name": "s6",
         "rawType": "float64",
         "type": "float"
        },
        {
         "name": "target",
         "rawType": "float64",
         "type": "float"
        }
       ],
       "ref": "3aaa7dfd-ae2a-46de-9463-15fd56c3dd9d",
       "rows": [
        [
         "0",
         "0.038075906433423026",
         "0.05068011873981862",
         "0.061696206518683294",
         "0.0218723855140367",
         "-0.04422349842444599",
         "-0.03482076283769895",
         "-0.04340084565202491",
         "-0.002592261998183278",
         "0.019907486170462722",
         "-0.01764612515980379",
         "151.0"
        ],
        [
         "1",
         "-0.0018820165277906047",
         "-0.044641636506989144",
         "-0.051474061238800654",
         "-0.02632752814785296",
         "-0.008448724111216851",
         "-0.019163339748222204",
         "0.07441156407875721",
         "-0.03949338287409329",
         "-0.0683315470939731",
         "-0.092204049626824",
         "75.0"
        ],
        [
         "2",
         "0.08529890629667548",
         "0.05068011873981862",
         "0.04445121333659049",
         "-0.00567042229275739",
         "-0.04559945128264711",
         "-0.03419446591411989",
         "-0.03235593223976409",
         "-0.002592261998183278",
         "0.002861309289833047",
         "-0.025930338989472702",
         "141.0"
        ],
        [
         "3",
         "-0.0890629393522567",
         "-0.044641636506989144",
         "-0.011595014505211082",
         "-0.03665608107540074",
         "0.01219056876179996",
         "0.02499059336410222",
         "-0.036037570043851025",
         "0.03430885887772673",
         "0.022687744966501246",
         "-0.009361911330134878",
         "206.0"
        ],
        [
         "4",
         "0.005383060374248237",
         "-0.044641636506989144",
         "-0.03638469220446948",
         "0.0218723855140367",
         "0.003934851612593237",
         "0.015596139510416171",
         "0.008142083605192267",
         "-0.002592261998183278",
         "-0.03198763948805312",
         "-0.04664087356364498",
         "135.0"
        ]
       ],
       "shape": {
        "columns": 11,
        "rows": 5
       }
      },
      "text/html": [
       "<div>\n",
       "<style scoped>\n",
       "    .dataframe tbody tr th:only-of-type {\n",
       "        vertical-align: middle;\n",
       "    }\n",
       "\n",
       "    .dataframe tbody tr th {\n",
       "        vertical-align: top;\n",
       "    }\n",
       "\n",
       "    .dataframe thead th {\n",
       "        text-align: right;\n",
       "    }\n",
       "</style>\n",
       "<table border=\"1\" class=\"dataframe\">\n",
       "  <thead>\n",
       "    <tr style=\"text-align: right;\">\n",
       "      <th></th>\n",
       "      <th>age</th>\n",
       "      <th>sex</th>\n",
       "      <th>bmi</th>\n",
       "      <th>bp</th>\n",
       "      <th>s1</th>\n",
       "      <th>s2</th>\n",
       "      <th>s3</th>\n",
       "      <th>s4</th>\n",
       "      <th>s5</th>\n",
       "      <th>s6</th>\n",
       "      <th>target</th>\n",
       "    </tr>\n",
       "  </thead>\n",
       "  <tbody>\n",
       "    <tr>\n",
       "      <th>0</th>\n",
       "      <td>0.038076</td>\n",
       "      <td>0.050680</td>\n",
       "      <td>0.061696</td>\n",
       "      <td>0.021872</td>\n",
       "      <td>-0.044223</td>\n",
       "      <td>-0.034821</td>\n",
       "      <td>-0.043401</td>\n",
       "      <td>-0.002592</td>\n",
       "      <td>0.019907</td>\n",
       "      <td>-0.017646</td>\n",
       "      <td>151.0</td>\n",
       "    </tr>\n",
       "    <tr>\n",
       "      <th>1</th>\n",
       "      <td>-0.001882</td>\n",
       "      <td>-0.044642</td>\n",
       "      <td>-0.051474</td>\n",
       "      <td>-0.026328</td>\n",
       "      <td>-0.008449</td>\n",
       "      <td>-0.019163</td>\n",
       "      <td>0.074412</td>\n",
       "      <td>-0.039493</td>\n",
       "      <td>-0.068332</td>\n",
       "      <td>-0.092204</td>\n",
       "      <td>75.0</td>\n",
       "    </tr>\n",
       "    <tr>\n",
       "      <th>2</th>\n",
       "      <td>0.085299</td>\n",
       "      <td>0.050680</td>\n",
       "      <td>0.044451</td>\n",
       "      <td>-0.005670</td>\n",
       "      <td>-0.045599</td>\n",
       "      <td>-0.034194</td>\n",
       "      <td>-0.032356</td>\n",
       "      <td>-0.002592</td>\n",
       "      <td>0.002861</td>\n",
       "      <td>-0.025930</td>\n",
       "      <td>141.0</td>\n",
       "    </tr>\n",
       "    <tr>\n",
       "      <th>3</th>\n",
       "      <td>-0.089063</td>\n",
       "      <td>-0.044642</td>\n",
       "      <td>-0.011595</td>\n",
       "      <td>-0.036656</td>\n",
       "      <td>0.012191</td>\n",
       "      <td>0.024991</td>\n",
       "      <td>-0.036038</td>\n",
       "      <td>0.034309</td>\n",
       "      <td>0.022688</td>\n",
       "      <td>-0.009362</td>\n",
       "      <td>206.0</td>\n",
       "    </tr>\n",
       "    <tr>\n",
       "      <th>4</th>\n",
       "      <td>0.005383</td>\n",
       "      <td>-0.044642</td>\n",
       "      <td>-0.036385</td>\n",
       "      <td>0.021872</td>\n",
       "      <td>0.003935</td>\n",
       "      <td>0.015596</td>\n",
       "      <td>0.008142</td>\n",
       "      <td>-0.002592</td>\n",
       "      <td>-0.031988</td>\n",
       "      <td>-0.046641</td>\n",
       "      <td>135.0</td>\n",
       "    </tr>\n",
       "  </tbody>\n",
       "</table>\n",
       "</div>"
      ],
      "text/plain": [
       "        age       sex       bmi        bp        s1        s2        s3  \\\n",
       "0  0.038076  0.050680  0.061696  0.021872 -0.044223 -0.034821 -0.043401   \n",
       "1 -0.001882 -0.044642 -0.051474 -0.026328 -0.008449 -0.019163  0.074412   \n",
       "2  0.085299  0.050680  0.044451 -0.005670 -0.045599 -0.034194 -0.032356   \n",
       "3 -0.089063 -0.044642 -0.011595 -0.036656  0.012191  0.024991 -0.036038   \n",
       "4  0.005383 -0.044642 -0.036385  0.021872  0.003935  0.015596  0.008142   \n",
       "\n",
       "         s4        s5        s6  target  \n",
       "0 -0.002592  0.019907 -0.017646   151.0  \n",
       "1 -0.039493 -0.068332 -0.092204    75.0  \n",
       "2 -0.002592  0.002861 -0.025930   141.0  \n",
       "3  0.034309  0.022688 -0.009362   206.0  \n",
       "4 -0.002592 -0.031988 -0.046641   135.0  "
      ]
     },
     "execution_count": 1,
     "metadata": {},
     "output_type": "execute_result"
    }
   ],
   "source": [
    "import pandas as pd\n",
    "import numpy as np\n",
    "import matplotlib.pyplot as plt\n",
    "import seaborn as sns\n",
    "from sklearn.datasets import load_diabetes\n",
    "\n",
    "# Load the Diabetes dataset\n",
    "diabetes = load_diabetes()\n",
    "\n",
    "# Convert to Dataframe\n",
    "df = pd.DataFrame(diabetes.data, columns=diabetes.feature_names)\n",
    "df['target'] = diabetes.target\n",
    "\n",
    "print(\"Diabetes Dataset\")\n",
    "df.head()"
   ]
  },
  {
   "cell_type": "markdown",
   "id": "31004b75",
   "metadata": {},
   "source": [
    "### Statistical Summary"
   ]
  },
  {
   "cell_type": "code",
   "execution_count": 2,
   "id": "a4ba996b",
   "metadata": {},
   "outputs": [
    {
     "data": {
      "application/vnd.microsoft.datawrangler.viewer.v0+json": {
       "columns": [
        {
         "name": "index",
         "rawType": "object",
         "type": "string"
        },
        {
         "name": "count",
         "rawType": "float64",
         "type": "float"
        },
        {
         "name": "mean",
         "rawType": "float64",
         "type": "float"
        },
        {
         "name": "std",
         "rawType": "float64",
         "type": "float"
        },
        {
         "name": "min",
         "rawType": "float64",
         "type": "float"
        },
        {
         "name": "25%",
         "rawType": "float64",
         "type": "float"
        },
        {
         "name": "50%",
         "rawType": "float64",
         "type": "float"
        },
        {
         "name": "75%",
         "rawType": "float64",
         "type": "float"
        },
        {
         "name": "max",
         "rawType": "float64",
         "type": "float"
        }
       ],
       "ref": "0a3b9b8c-09bb-42f3-9d3f-db4c8396f630",
       "rows": [
        [
         "age",
         "442.0",
         "-2.511816797794472e-19",
         "0.047619047619047644",
         "-0.1072256316073538",
         "-0.03729926642522996",
         "0.005383060374248237",
         "0.038075906433423026",
         "0.11072667545381144"
        ],
        [
         "sex",
         "442.0",
         "1.2307902309192911e-17",
         "0.047619047619047665",
         "-0.044641636506989144",
         "-0.044641636506989144",
         "-0.044641636506989144",
         "0.05068011873981862",
         "0.05068011873981862"
        ],
        [
         "bmi",
         "442.0",
         "-2.2455642172282577e-16",
         "0.047619047619047616",
         "-0.09027529589850945",
         "-0.03422906805670789",
         "-0.007283766209687899",
         "0.031248015431550695",
         "0.17055522598064407"
        ],
        [
         "bp",
         "442.0",
         "-4.7975700837874414e-17",
         "0.047619047619047596",
         "-0.11239880254408448",
         "-0.03665608107540074",
         "-0.00567042229275739",
         "0.03564378941743375",
         "0.13204361674121307"
        ],
        [
         "s1",
         "442.0",
         "-1.3814992387869595e-17",
         "0.04761904761904759",
         "-0.12678066991651324",
         "-0.03424784020248786",
         "-0.004320865536613489",
         "0.028358014845663134",
         "0.15391371315651542"
        ],
        [
         "s2",
         "442.0",
         "3.918434204559376e-17",
         "0.047619047619047644",
         "-0.11561306597939897",
         "-0.03035839725719808",
         "-0.0038190651205350003",
         "0.02984439452183999",
         "0.19878798965729408"
        ],
        [
         "s3",
         "442.0",
         "-5.7771786349272854e-18",
         "0.047619047619047596",
         "-0.10230705051741597",
         "-0.035117160592829294",
         "-0.006584467611155497",
         "0.02931150097869218",
         "0.18117906039727852"
        ],
        [
         "s4",
         "442.0",
         "-9.042540472060099e-18",
         "0.047619047619047616",
         "-0.0763945037500033",
         "-0.03949338287409329",
         "-0.002592261998183278",
         "0.03430885887772673",
         "0.18523444326019867"
        ],
        [
         "s5",
         "442.0",
         "9.293722151839546e-17",
         "0.047619047619047616",
         "-0.12609712083330468",
         "-0.03324559264822791",
         "-0.0019471710869220743",
         "0.03243232415655107",
         "0.13359728192191356"
        ],
        [
         "s6",
         "442.0",
         "1.1303175590075123e-17",
         "0.047619047619047644",
         "-0.13776722569000302",
         "-0.033179026090433",
         "-0.0010776975004659671",
         "0.027917050903375224",
         "0.13561183068907107"
        ],
        [
         "target",
         "442.0",
         "152.13348416289594",
         "77.09300453299109",
         "25.0",
         "87.0",
         "140.5",
         "211.5",
         "346.0"
        ]
       ],
       "shape": {
        "columns": 8,
        "rows": 11
       }
      },
      "text/html": [
       "<div>\n",
       "<style scoped>\n",
       "    .dataframe tbody tr th:only-of-type {\n",
       "        vertical-align: middle;\n",
       "    }\n",
       "\n",
       "    .dataframe tbody tr th {\n",
       "        vertical-align: top;\n",
       "    }\n",
       "\n",
       "    .dataframe thead th {\n",
       "        text-align: right;\n",
       "    }\n",
       "</style>\n",
       "<table border=\"1\" class=\"dataframe\">\n",
       "  <thead>\n",
       "    <tr style=\"text-align: right;\">\n",
       "      <th></th>\n",
       "      <th>count</th>\n",
       "      <th>mean</th>\n",
       "      <th>std</th>\n",
       "      <th>min</th>\n",
       "      <th>25%</th>\n",
       "      <th>50%</th>\n",
       "      <th>75%</th>\n",
       "      <th>max</th>\n",
       "    </tr>\n",
       "  </thead>\n",
       "  <tbody>\n",
       "    <tr>\n",
       "      <th>age</th>\n",
       "      <td>442.0</td>\n",
       "      <td>-2.511817e-19</td>\n",
       "      <td>0.047619</td>\n",
       "      <td>-0.107226</td>\n",
       "      <td>-0.037299</td>\n",
       "      <td>0.005383</td>\n",
       "      <td>0.038076</td>\n",
       "      <td>0.110727</td>\n",
       "    </tr>\n",
       "    <tr>\n",
       "      <th>sex</th>\n",
       "      <td>442.0</td>\n",
       "      <td>1.230790e-17</td>\n",
       "      <td>0.047619</td>\n",
       "      <td>-0.044642</td>\n",
       "      <td>-0.044642</td>\n",
       "      <td>-0.044642</td>\n",
       "      <td>0.050680</td>\n",
       "      <td>0.050680</td>\n",
       "    </tr>\n",
       "    <tr>\n",
       "      <th>bmi</th>\n",
       "      <td>442.0</td>\n",
       "      <td>-2.245564e-16</td>\n",
       "      <td>0.047619</td>\n",
       "      <td>-0.090275</td>\n",
       "      <td>-0.034229</td>\n",
       "      <td>-0.007284</td>\n",
       "      <td>0.031248</td>\n",
       "      <td>0.170555</td>\n",
       "    </tr>\n",
       "    <tr>\n",
       "      <th>bp</th>\n",
       "      <td>442.0</td>\n",
       "      <td>-4.797570e-17</td>\n",
       "      <td>0.047619</td>\n",
       "      <td>-0.112399</td>\n",
       "      <td>-0.036656</td>\n",
       "      <td>-0.005670</td>\n",
       "      <td>0.035644</td>\n",
       "      <td>0.132044</td>\n",
       "    </tr>\n",
       "    <tr>\n",
       "      <th>s1</th>\n",
       "      <td>442.0</td>\n",
       "      <td>-1.381499e-17</td>\n",
       "      <td>0.047619</td>\n",
       "      <td>-0.126781</td>\n",
       "      <td>-0.034248</td>\n",
       "      <td>-0.004321</td>\n",
       "      <td>0.028358</td>\n",
       "      <td>0.153914</td>\n",
       "    </tr>\n",
       "    <tr>\n",
       "      <th>s2</th>\n",
       "      <td>442.0</td>\n",
       "      <td>3.918434e-17</td>\n",
       "      <td>0.047619</td>\n",
       "      <td>-0.115613</td>\n",
       "      <td>-0.030358</td>\n",
       "      <td>-0.003819</td>\n",
       "      <td>0.029844</td>\n",
       "      <td>0.198788</td>\n",
       "    </tr>\n",
       "    <tr>\n",
       "      <th>s3</th>\n",
       "      <td>442.0</td>\n",
       "      <td>-5.777179e-18</td>\n",
       "      <td>0.047619</td>\n",
       "      <td>-0.102307</td>\n",
       "      <td>-0.035117</td>\n",
       "      <td>-0.006584</td>\n",
       "      <td>0.029312</td>\n",
       "      <td>0.181179</td>\n",
       "    </tr>\n",
       "    <tr>\n",
       "      <th>s4</th>\n",
       "      <td>442.0</td>\n",
       "      <td>-9.042540e-18</td>\n",
       "      <td>0.047619</td>\n",
       "      <td>-0.076395</td>\n",
       "      <td>-0.039493</td>\n",
       "      <td>-0.002592</td>\n",
       "      <td>0.034309</td>\n",
       "      <td>0.185234</td>\n",
       "    </tr>\n",
       "    <tr>\n",
       "      <th>s5</th>\n",
       "      <td>442.0</td>\n",
       "      <td>9.293722e-17</td>\n",
       "      <td>0.047619</td>\n",
       "      <td>-0.126097</td>\n",
       "      <td>-0.033246</td>\n",
       "      <td>-0.001947</td>\n",
       "      <td>0.032432</td>\n",
       "      <td>0.133597</td>\n",
       "    </tr>\n",
       "    <tr>\n",
       "      <th>s6</th>\n",
       "      <td>442.0</td>\n",
       "      <td>1.130318e-17</td>\n",
       "      <td>0.047619</td>\n",
       "      <td>-0.137767</td>\n",
       "      <td>-0.033179</td>\n",
       "      <td>-0.001078</td>\n",
       "      <td>0.027917</td>\n",
       "      <td>0.135612</td>\n",
       "    </tr>\n",
       "    <tr>\n",
       "      <th>target</th>\n",
       "      <td>442.0</td>\n",
       "      <td>1.521335e+02</td>\n",
       "      <td>77.093005</td>\n",
       "      <td>25.000000</td>\n",
       "      <td>87.000000</td>\n",
       "      <td>140.500000</td>\n",
       "      <td>211.500000</td>\n",
       "      <td>346.000000</td>\n",
       "    </tr>\n",
       "  </tbody>\n",
       "</table>\n",
       "</div>"
      ],
      "text/plain": [
       "        count          mean        std        min        25%         50%  \\\n",
       "age     442.0 -2.511817e-19   0.047619  -0.107226  -0.037299    0.005383   \n",
       "sex     442.0  1.230790e-17   0.047619  -0.044642  -0.044642   -0.044642   \n",
       "bmi     442.0 -2.245564e-16   0.047619  -0.090275  -0.034229   -0.007284   \n",
       "bp      442.0 -4.797570e-17   0.047619  -0.112399  -0.036656   -0.005670   \n",
       "s1      442.0 -1.381499e-17   0.047619  -0.126781  -0.034248   -0.004321   \n",
       "s2      442.0  3.918434e-17   0.047619  -0.115613  -0.030358   -0.003819   \n",
       "s3      442.0 -5.777179e-18   0.047619  -0.102307  -0.035117   -0.006584   \n",
       "s4      442.0 -9.042540e-18   0.047619  -0.076395  -0.039493   -0.002592   \n",
       "s5      442.0  9.293722e-17   0.047619  -0.126097  -0.033246   -0.001947   \n",
       "s6      442.0  1.130318e-17   0.047619  -0.137767  -0.033179   -0.001078   \n",
       "target  442.0  1.521335e+02  77.093005  25.000000  87.000000  140.500000   \n",
       "\n",
       "               75%         max  \n",
       "age       0.038076    0.110727  \n",
       "sex       0.050680    0.050680  \n",
       "bmi       0.031248    0.170555  \n",
       "bp        0.035644    0.132044  \n",
       "s1        0.028358    0.153914  \n",
       "s2        0.029844    0.198788  \n",
       "s3        0.029312    0.181179  \n",
       "s4        0.034309    0.185234  \n",
       "s5        0.032432    0.133597  \n",
       "s6        0.027917    0.135612  \n",
       "target  211.500000  346.000000  "
      ]
     },
     "execution_count": 2,
     "metadata": {},
     "output_type": "execute_result"
    }
   ],
   "source": [
    "# Statistical Summary\n",
    "df.describe().T"
   ]
  },
  {
   "cell_type": "markdown",
   "id": "3ab7323e",
   "metadata": {},
   "source": [
    "### Insights:\n",
    "Target has a wide range (25-346), including diverse disease outcomes."
   ]
  },
  {
   "cell_type": "markdown",
   "id": "e3596bf2",
   "metadata": {},
   "source": [
    "### Missing Value Check"
   ]
  },
  {
   "cell_type": "code",
   "execution_count": 3,
   "id": "871a0d66",
   "metadata": {},
   "outputs": [
    {
     "data": {
      "application/vnd.microsoft.datawrangler.viewer.v0+json": {
       "columns": [
        {
         "name": "index",
         "rawType": "object",
         "type": "string"
        },
        {
         "name": "0",
         "rawType": "int64",
         "type": "integer"
        }
       ],
       "ref": "53c3fd6f-4fbf-4469-9122-7844f1b3b227",
       "rows": [
        [
         "age",
         "0"
        ],
        [
         "sex",
         "0"
        ],
        [
         "bmi",
         "0"
        ],
        [
         "bp",
         "0"
        ],
        [
         "s1",
         "0"
        ],
        [
         "s2",
         "0"
        ],
        [
         "s3",
         "0"
        ],
        [
         "s4",
         "0"
        ],
        [
         "s5",
         "0"
        ],
        [
         "s6",
         "0"
        ],
        [
         "target",
         "0"
        ]
       ],
       "shape": {
        "columns": 1,
        "rows": 11
       }
      },
      "text/plain": [
       "age       0\n",
       "sex       0\n",
       "bmi       0\n",
       "bp        0\n",
       "s1        0\n",
       "s2        0\n",
       "s3        0\n",
       "s4        0\n",
       "s5        0\n",
       "s6        0\n",
       "target    0\n",
       "dtype: int64"
      ]
     },
     "execution_count": 3,
     "metadata": {},
     "output_type": "execute_result"
    }
   ],
   "source": [
    "# Check for missing values\n",
    "df.isnull().sum()"
   ]
  },
  {
   "cell_type": "markdown",
   "id": "9a0f9c61",
   "metadata": {},
   "source": [
    "### Insights:\n",
    "\n",
    "The diabetes dataset from scikit-learn is clean. There are no missing values."
   ]
  },
  {
   "cell_type": "markdown",
   "id": "a61465b4",
   "metadata": {},
   "source": [
    "### Visualization"
   ]
  },
  {
   "cell_type": "code",
   "execution_count": 4,
   "id": "e7d171cb",
   "metadata": {},
   "outputs": [
    {
     "data": {
      "image/png": "[encoded data removed]",
      "text/plain": [
       "<Figure size 600x400 with 1 Axes>"
      ]
     },
     "metadata": {},
     "output_type": "display_data"
    }
   ],
   "source": [
    "# Distribution of Target Variable\n",
    "plt.figure(figsize=(6,4))\n",
    "sns.histplot(df['target'], kde=True)\n",
    "plt.title('Distribution of Disease Progression (Target)')\n",
    "plt.xlabel('Progression Score')\n",
    "plt.ylabel('Frequency')\n",
    "plt.show()\n"
   ]
  },
  {
   "cell_type": "markdown",
   "id": "2b7cce84",
   "metadata": {},
   "source": [
    "### Insights:\n",
    "\n",
    "The model shows it's approximately normally distributed. It's also slightly skewed on right side.\n",
    "The model is suitable for linear regression."
   ]
  },
  {
   "cell_type": "markdown",
   "id": "4faf50b4",
   "metadata": {},
   "source": [
    "### Scatter Plot Visualization"
   ]
  },
  {
   "cell_type": "code",
   "execution_count": 8,
   "id": "f4553fba",
   "metadata": {},
   "outputs": [
    {
     "data": {
      "image/png": "[encoded data removed]",
      "text/plain": [
       "<Figure size 1500x300 with 5 Axes>"
      ]
     },
     "metadata": {},
     "output_type": "display_data"
    }
   ],
   "source": [
    "# Scatter plots of relationship\n",
    "selected_features = [\"bmi\", \"bp\", \"s5\", \"s1\", \"age\"]\n",
    "sns.pairplot(df, x_vars=selected_features, y_vars=[\"target\"], kind=\"scatter\", height=3)\n",
    "plt.suptitle(\"Scatter Plots: Key Features vs. Target\", y=1.02)\n",
    "plt.show()\n"
   ]
  },
  {
   "cell_type": "markdown",
   "id": "10af9230",
   "metadata": {},
   "source": [
    "### Insights: \n",
    "1. BMI shows the strongest positive linear trend with disease progression.\n",
    "2. S5 also shows a notable positive correlation.\n",
    "3. S1 and BP exhibit moderate relationships.\n",
    "4. Age appears less correlated visually."
   ]
  },
  {
   "cell_type": "markdown",
   "id": "7db1c1b9",
   "metadata": {},
   "source": [
    "### Correlation with Target"
   ]
  },
  {
   "cell_type": "code",
   "execution_count": 6,
   "id": "c1374b38",
   "metadata": {},
   "outputs": [
    {
     "name": "stdout",
     "output_type": "stream",
     "text": [
      "Correlation of features with target: \n",
      "target    1.000000\n",
      "bmi       0.586450\n",
      "s5        0.565883\n",
      "bp        0.441482\n",
      "s4        0.430453\n",
      "s6        0.382483\n",
      "s1        0.212022\n",
      "age       0.187889\n",
      "s2        0.174054\n",
      "sex       0.043062\n",
      "s3       -0.394789\n",
      "Name: target, dtype: float64\n"
     ]
    }
   ],
   "source": [
    "# Correlation Matrix\n",
    "corr = df.corr()\n",
    "\n",
    "# Sort by correlation with target\n",
    "corr_target = corr['target'].sort_values(ascending=False)\n",
    "print(\"Correlation of features with target: \")\n",
    "print(corr_target)"
   ]
  },
  {
   "cell_type": "markdown",
   "id": "b3502085",
   "metadata": {},
   "source": [
    "### Insights:\n",
    "\n",
    "1. Top positive correlations: bmi, s5, and bp.\n",
    "2. Negative correlations: s3 and s2 (possibly protective or inverse effects).\n",
    "3. BMI is the most influential predictor: consistent with medical expectations linking obesity to diabetes severity.\n",
    "4. Features are moderately correlated, so multicollinearity may need consideration before regression."
   ]
  },
  {
   "cell_type": "code",
   "execution_count": 7,
   "id": "4fd56396",
   "metadata": {},
   "outputs": [
    {
     "data": {
      "image/png": "[encoded data removed]",
      "text/plain": [
       "<Figure size 1000x800 with 2 Axes>"
      ]
     },
     "metadata": {},
     "output_type": "display_data"
    }
   ],
   "source": [
    "# Heatmap Visualization\n",
    "plt.figure(figsize=(10,8))\n",
    "sns.heatmap(corr, annot=True, cmap=\"coolwarm\", fmt=\".2f\")\n",
    "plt.title(\"Feature Correlation Heatmap\")\n",
    "plt.show()\n"
   ]
  },
  {
   "cell_type": "markdown",
   "id": "e6c843f4",
   "metadata": {},
   "source": [
    "### Talking Points\n",
    "\n",
    "1. **Feature Relevance:** BMI and blood pressure are biologically plausible predictors of diabetes progression.\n",
    "2. **Data Quality:** No missing or categorical data simplifies preprocessing.\n",
    "3. **Model Readiness:** Linear relationships suggest regression models can perform well initially."
   ]
  },
  {
   "cell_type": "markdown",
   "id": "bf80dc27",
   "metadata": {},
   "source": [
    "# Step 4: Clean the Data\n",
    "\n",
    "Before building models, it’s critical to ensure the dataset is clean, consistent, and ready for analysis.\n",
    "\n",
    "### 1. Check for Missing Values\n",
    "We verify if any cells contain null or NaN values that could affect statistical calculations or model training.\n",
    "\n",
    "### 2. Detect Outliers or Invalid Entries\n",
    "Extreme values can distort regression models, but standardized datasets usually limit this risk.\n",
    "\n",
    "### 3. Feature Scaling\n",
    "The Scikit-Learn Diabetes dataset is already standardized (mean ≈ 0, std ≈ 1), so no further scaling is necessary before model training.\n",
    "\n",
    "### Summary of Findings\n",
    "- **No missing data**\n",
    "- **No categorical variables requiring encoding**\n",
    "- **No obvious outliers due to prior normalization**\n",
    "- **Dataset ready for regression modeling**\n"
   ]
  },
  {
   "cell_type": "markdown",
   "id": "c753aa0e",
   "metadata": {},
   "source": [
    "### Missing Value Check"
   ]
  },
  {
   "cell_type": "code",
   "execution_count": 13,
   "id": "8ef2271c",
   "metadata": {},
   "outputs": [
    {
     "name": "stdout",
     "output_type": "stream",
     "text": [
      "Missing values per column:\n",
      " age       0\n",
      "sex       0\n",
      "bmi       0\n",
      "bp        0\n",
      "s1        0\n",
      "s2        0\n",
      "s3        0\n",
      "s4        0\n",
      "s5        0\n",
      "s6        0\n",
      "target    0\n",
      "dtype: int64\n"
     ]
    }
   ],
   "source": [
    "# Check for missing values\n",
    "missing_values = df.isnull().sum()\n",
    "print(\"Missing values per column:\\n\", missing_values)\n"
   ]
  },
  {
   "cell_type": "markdown",
   "id": "f82b5e6f",
   "metadata": {},
   "source": [
    "### Duplicate Row Check"
   ]
  },
  {
   "cell_type": "code",
   "execution_count": 16,
   "id": "2a22c6a8",
   "metadata": {},
   "outputs": [
    {
     "name": "stdout",
     "output_type": "stream",
     "text": [
      "Duplicate rows:\n",
      " 0\n"
     ]
    }
   ],
   "source": [
    "# Check for duplicate rows\n",
    "duplicate_rows = df.duplicated().sum()\n",
    "print(\"Duplicate rows:\\n\", duplicate_rows)"
   ]
  },
  {
   "cell_type": "markdown",
   "id": "3b47ed76",
   "metadata": {},
   "source": [
    "### Data Range Check"
   ]
  },
  {
   "cell_type": "code",
   "execution_count": 17,
   "id": "79ed37db",
   "metadata": {},
   "outputs": [
    {
     "data": {
      "application/vnd.microsoft.datawrangler.viewer.v0+json": {
       "columns": [
        {
         "name": "index",
         "rawType": "object",
         "type": "string"
        },
        {
         "name": "mean",
         "rawType": "float64",
         "type": "float"
        },
        {
         "name": "std",
         "rawType": "float64",
         "type": "float"
        },
        {
         "name": "min",
         "rawType": "float64",
         "type": "float"
        },
        {
         "name": "max",
         "rawType": "float64",
         "type": "float"
        }
       ],
       "ref": "03e0f4e2-1389-4a27-9ef1-1bd6350a8ceb",
       "rows": [
        [
         "age",
         "-2.511816797794472e-19",
         "0.047619047619047644",
         "-0.1072256316073538",
         "0.11072667545381144"
        ],
        [
         "sex",
         "1.2307902309192911e-17",
         "0.047619047619047665",
         "-0.044641636506989144",
         "0.05068011873981862"
        ],
        [
         "bmi",
         "-2.2455642172282577e-16",
         "0.047619047619047616",
         "-0.09027529589850945",
         "0.17055522598064407"
        ],
        [
         "bp",
         "-4.7975700837874414e-17",
         "0.047619047619047596",
         "-0.11239880254408448",
         "0.13204361674121307"
        ],
        [
         "s1",
         "-1.3814992387869595e-17",
         "0.04761904761904759",
         "-0.12678066991651324",
         "0.15391371315651542"
        ],
        [
         "s2",
         "3.918434204559376e-17",
         "0.047619047619047644",
         "-0.11561306597939897",
         "0.19878798965729408"
        ],
        [
         "s3",
         "-5.7771786349272854e-18",
         "0.047619047619047596",
         "-0.10230705051741597",
         "0.18117906039727852"
        ],
        [
         "s4",
         "-9.042540472060099e-18",
         "0.047619047619047616",
         "-0.0763945037500033",
         "0.18523444326019867"
        ],
        [
         "s5",
         "9.293722151839546e-17",
         "0.047619047619047616",
         "-0.12609712083330468",
         "0.13359728192191356"
        ],
        [
         "s6",
         "1.1303175590075123e-17",
         "0.047619047619047644",
         "-0.13776722569000302",
         "0.13561183068907107"
        ],
        [
         "target",
         "152.13348416289594",
         "77.09300453299109",
         "25.0",
         "346.0"
        ]
       ],
       "shape": {
        "columns": 4,
        "rows": 11
       }
      },
      "text/html": [
       "<div>\n",
       "<style scoped>\n",
       "    .dataframe tbody tr th:only-of-type {\n",
       "        vertical-align: middle;\n",
       "    }\n",
       "\n",
       "    .dataframe tbody tr th {\n",
       "        vertical-align: top;\n",
       "    }\n",
       "\n",
       "    .dataframe thead th {\n",
       "        text-align: right;\n",
       "    }\n",
       "</style>\n",
       "<table border=\"1\" class=\"dataframe\">\n",
       "  <thead>\n",
       "    <tr style=\"text-align: right;\">\n",
       "      <th></th>\n",
       "      <th>mean</th>\n",
       "      <th>std</th>\n",
       "      <th>min</th>\n",
       "      <th>max</th>\n",
       "    </tr>\n",
       "  </thead>\n",
       "  <tbody>\n",
       "    <tr>\n",
       "      <th>age</th>\n",
       "      <td>-2.511817e-19</td>\n",
       "      <td>0.047619</td>\n",
       "      <td>-0.107226</td>\n",
       "      <td>0.110727</td>\n",
       "    </tr>\n",
       "    <tr>\n",
       "      <th>sex</th>\n",
       "      <td>1.230790e-17</td>\n",
       "      <td>0.047619</td>\n",
       "      <td>-0.044642</td>\n",
       "      <td>0.050680</td>\n",
       "    </tr>\n",
       "    <tr>\n",
       "      <th>bmi</th>\n",
       "      <td>-2.245564e-16</td>\n",
       "      <td>0.047619</td>\n",
       "      <td>-0.090275</td>\n",
       "      <td>0.170555</td>\n",
       "    </tr>\n",
       "    <tr>\n",
       "      <th>bp</th>\n",
       "      <td>-4.797570e-17</td>\n",
       "      <td>0.047619</td>\n",
       "      <td>-0.112399</td>\n",
       "      <td>0.132044</td>\n",
       "    </tr>\n",
       "    <tr>\n",
       "      <th>s1</th>\n",
       "      <td>-1.381499e-17</td>\n",
       "      <td>0.047619</td>\n",
       "      <td>-0.126781</td>\n",
       "      <td>0.153914</td>\n",
       "    </tr>\n",
       "    <tr>\n",
       "      <th>s2</th>\n",
       "      <td>3.918434e-17</td>\n",
       "      <td>0.047619</td>\n",
       "      <td>-0.115613</td>\n",
       "      <td>0.198788</td>\n",
       "    </tr>\n",
       "    <tr>\n",
       "      <th>s3</th>\n",
       "      <td>-5.777179e-18</td>\n",
       "      <td>0.047619</td>\n",
       "      <td>-0.102307</td>\n",
       "      <td>0.181179</td>\n",
       "    </tr>\n",
       "    <tr>\n",
       "      <th>s4</th>\n",
       "      <td>-9.042540e-18</td>\n",
       "      <td>0.047619</td>\n",
       "      <td>-0.076395</td>\n",
       "      <td>0.185234</td>\n",
       "    </tr>\n",
       "    <tr>\n",
       "      <th>s5</th>\n",
       "      <td>9.293722e-17</td>\n",
       "      <td>0.047619</td>\n",
       "      <td>-0.126097</td>\n",
       "      <td>0.133597</td>\n",
       "    </tr>\n",
       "    <tr>\n",
       "      <th>s6</th>\n",
       "      <td>1.130318e-17</td>\n",
       "      <td>0.047619</td>\n",
       "      <td>-0.137767</td>\n",
       "      <td>0.135612</td>\n",
       "    </tr>\n",
       "    <tr>\n",
       "      <th>target</th>\n",
       "      <td>1.521335e+02</td>\n",
       "      <td>77.093005</td>\n",
       "      <td>25.000000</td>\n",
       "      <td>346.000000</td>\n",
       "    </tr>\n",
       "  </tbody>\n",
       "</table>\n",
       "</div>"
      ],
      "text/plain": [
       "                mean        std        min         max\n",
       "age    -2.511817e-19   0.047619  -0.107226    0.110727\n",
       "sex     1.230790e-17   0.047619  -0.044642    0.050680\n",
       "bmi    -2.245564e-16   0.047619  -0.090275    0.170555\n",
       "bp     -4.797570e-17   0.047619  -0.112399    0.132044\n",
       "s1     -1.381499e-17   0.047619  -0.126781    0.153914\n",
       "s2      3.918434e-17   0.047619  -0.115613    0.198788\n",
       "s3     -5.777179e-18   0.047619  -0.102307    0.181179\n",
       "s4     -9.042540e-18   0.047619  -0.076395    0.185234\n",
       "s5      9.293722e-17   0.047619  -0.126097    0.133597\n",
       "s6      1.130318e-17   0.047619  -0.137767    0.135612\n",
       "target  1.521335e+02  77.093005  25.000000  346.000000"
      ]
     },
     "execution_count": 17,
     "metadata": {},
     "output_type": "execute_result"
    }
   ],
   "source": [
    "# Check Data ranges\n",
    "df.describe().T[['mean', 'std', 'min', 'max']]"
   ]
  },
  {
   "cell_type": "markdown",
   "id": "594c94eb",
   "metadata": {},
   "source": [
    "### Reasoning\n",
    "- The Scikit-Learn Diabetes dataset is preprocessed and normalized for educational and benchmarking purposes.\n",
    "- No missing values, no categorical encoding, and no scaling transformations are needed.\n",
    "- This ensures a ready-to-model dataset — simplifying the focus on statistical relationships and model performance rather than data cleaning."
   ]
  },
  {
   "cell_type": "markdown",
   "id": "2508279f",
   "metadata": {},
   "source": [
    "# Step 5: Split the Dataset\n",
    "\n",
    "Machine Learning models must be trained and evaluated on separate data to measure real-world performance.\n",
    "\n",
    "We’ll divide the Diabetes dataset as follows:\n",
    "\n",
    "| Subset | Purpose | Size | Description |\n",
    "|---------|----------|------|--------------|\n",
    "| **Training Set** | Model learns parameters | 75% | Used to fit model weights |\n",
    "| **Validation Set** | Model tuning | 10% | Used for hyperparameter optimization and early stopping |\n",
    "| **Test Set** | Final evaluation | 15% | Used only once, to assess generalization |\n",
    "\n",
    "This split helps prevent **overfitting** and provides an unbiased estimate of model performance.\n"
   ]
  },
  {
   "cell_type": "code",
   "execution_count": 18,
   "id": "22efdfd0",
   "metadata": {},
   "outputs": [
    {
     "name": "stdout",
     "output_type": "stream",
     "text": [
      "Training set: 331 samples (75%)\n",
      "Validation set: 44 samples (10%)\n",
      "Test set: 67 samples (15%)\n"
     ]
    }
   ],
   "source": [
    "from sklearn.model_selection import train_test_split\n",
    "\n",
    "# Seperate features(X) and target(Y)\n",
    "X = df.drop(\"target\", axis=1)\n",
    "Y = df[\"target\"]\n",
    "\n",
    "# First Split: Train(75%) and Temp(25%)\n",
    "X_train, X_temp, Y_train, Y_temp = train_test_split(X,Y,test_size=0.25,random_state=42)\n",
    "\n",
    "# Second Split: From 25% - Validation(15%) and Test(10%)\n",
    "X_val, X_test, Y_val, Y_test = train_test_split(X_temp,Y_temp,test_size=0.6, random_state=42)\n",
    "\n",
    "print(f\"Training set: {len(X_train)} samples ({len(X_train)/len(df):.0%})\")\n",
    "print(f\"Validation set: {len(X_val)} samples ({len(X_val)/len(df):.0%})\")\n",
    "print(f\"Test set: {len(X_test)} samples ({len(X_test)/len(df):.0%})\")"
   ]
  },
  {
   "cell_type": "markdown",
   "id": "4c0f3e92",
   "metadata": {},
   "source": [
    "### Reasoning:\n",
    "By splitting the data into 75% Training, 10% Validation and 15% Test sets, we ensure:\n",
    "- The model has enough data to learn.\n",
    "- The model has independent set for tuning.\n",
    "- The final testing remains unbiased."
   ]
  },
  {
   "cell_type": "markdown",
   "id": "bfdd692e",
   "metadata": {},
   "source": [
    "# Step 6: Modeling: Univariate Polynomial Regression (BMI vs Target)\n",
    "We’ll build regression models that predict the **disease progression (target)** based solely on the **BMI** feature.\n",
    "\n",
    "**Objectives:**  \n",
    "To understand how increasing the polynomial degree (model complexity) affects fit and generalization.\n",
    "\n",
    "### Models Trained\n",
    "| Degree | Description |\n",
    "|---------|--------------|\n",
    "| 0 | Constant model (mean prediction) |\n",
    "| 1 | Linear regression |\n",
    "| 2 | Quadratic regression |\n",
    "| 3 | Cubic regression |\n",
    "| 4 | 4th-degree polynomial |\n",
    "| 5 | 5th-degree polynomial |\n",
    "\n",
    "We’ll evaluate model performance on **training**, **validation**, and **test sets** using:\n",
    "- Mean Squared Error (MSE)\n",
    "- Coefficient of Determination (R²)"
   ]
  },
  {
   "cell_type": "code",
   "execution_count": 19,
   "id": "0c9765a9",
   "metadata": {},
   "outputs": [],
   "source": [
    "# Import Dependencies\n",
    "from sklearn.preprocessing import PolynomialFeatures\n",
    "from sklearn.linear_model import LinearRegression\n",
    "from sklearn.metrics import mean_squared_error, r2_score\n",
    "import numpy as np\n",
    "import matplotlib.pyplot as plt\n",
    "\n",
    "# Extract the BMI feature\n",
    "X_train_bmi = X_train[[\"bmi\"]]\n",
    "X_val_bmi = X_val[[\"bmi\"]]\n",
    "X_test_bmi = X_test[[\"bmi\"]]\n",
    "Y_train_bmi = Y_train\n",
    "Y_val_bmi = Y_val\n",
    "Y_test_bmi = Y_test\n"
   ]
  },
  {
   "cell_type": "code",
   "execution_count": 23,
   "id": "1e6ff6ba",
   "metadata": {},
   "outputs": [
    {
     "data": {
      "application/vnd.microsoft.datawrangler.viewer.v0+json": {
       "columns": [
        {
         "name": "index",
         "rawType": "int64",
         "type": "integer"
        },
        {
         "name": "Degree",
         "rawType": "int64",
         "type": "integer"
        },
        {
         "name": "Train MSE",
         "rawType": "float64",
         "type": "float"
        },
        {
         "name": "Validation MSE",
         "rawType": "object",
         "type": "unknown"
        },
        {
         "name": "Test MSE",
         "rawType": "object",
         "type": "unknown"
        },
        {
         "name": "Validation R²",
         "rawType": "float64",
         "type": "float"
        }
       ],
       "ref": "217d551e-8063-48df-a73b-d2d55bc6a3a1",
       "rows": [
        [
         "0",
         "0",
         "6044.624583565319",
         "(5       97.0\n360    281.0\n137    280.0\n15     171.0\n411    136.0\n94      90.0\n77     200.0\n433     72.0\n56      52.0\n153     71.0\n437    178.0\n227    108.0\n19     168.0\n358     90.0\n84      65.0\n0      151.0\n423     91.0\n39      90.0\n173    101.0\n286     60.0\n101    102.0\n239    262.0\n157     84.0\n132    107.0\n369    167.0\n211     70.0\n11      69.0\n181     64.0\n72     202.0\n399    232.0\n391     63.0\n237     72.0\n296     89.0\n57      37.0\n93      96.0\n278    102.0\n9      310.0\n320    122.0\n203    222.0\n45      53.0\n329    135.0\n245    125.0\n131    158.0\n332    270.0\nName: target, dtype: float64, array([154.34441088, 154.34441088, 154.34441088, 154.34441088,\n       154.34441088, 154.34441088, 154.34441088, 154.34441088,\n       154.34441088, 154.34441088, 154.34441088, 154.34441088,\n       154.34441088, 154.34441088, 154.34441088, 154.34441088,\n       154.34441088, 154.34441088, 154.34441088, 154.34441088,\n       154.34441088, 154.34441088, 154.34441088, 154.34441088,\n       154.34441088, 154.34441088, 154.34441088, 154.34441088,\n       154.34441088, 154.34441088, 154.34441088, 154.34441088,\n       154.34441088, 154.34441088, 154.34441088, 154.34441088,\n       154.34441088, 154.34441088, 154.34441088, 154.34441088,\n       154.34441088, 154.34441088, 154.34441088, 154.34441088]))",
         "(176    237.0\n429     94.0\n73     111.0\n255    153.0\n218    214.0\n       ...  \n321    230.0\n268    264.0\n307    172.0\n90      98.0\n367    242.0\nName: target, Length: 67, dtype: float64, array([154.34441088, 154.34441088, 154.34441088, 154.34441088,\n       154.34441088, 154.34441088, 154.34441088, 154.34441088,\n       154.34441088, 154.34441088, 154.34441088, 154.34441088,\n       154.34441088, 154.34441088, 154.34441088, 154.34441088,\n       154.34441088, 154.34441088, 154.34441088, 154.34441088,\n       154.34441088, 154.34441088, 154.34441088, 154.34441088,\n       154.34441088, 154.34441088, 154.34441088, 154.34441088,\n       154.34441088, 154.34441088, 154.34441088, 154.34441088,\n       154.34441088, 154.34441088, 154.34441088, 154.34441088,\n       154.34441088, 154.34441088, 154.34441088, 154.34441088,\n       154.34441088, 154.34441088, 154.34441088, 154.34441088,\n       154.34441088, 154.34441088, 154.34441088, 154.34441088,\n       154.34441088, 154.34441088, 154.34441088, 154.34441088,\n       154.34441088, 154.34441088, 154.34441088, 154.34441088,\n       154.34441088, 154.34441088, 154.34441088, 154.34441088,\n       154.34441088, 154.34441088, 154.34441088, 154.34441088,\n       154.34441088, 154.34441088, 154.34441088]))",
         "-0.10695658646940309"
        ],
        [
         "1",
         "1",
         "3930.9895155330532",
         "(5       97.0\n360    281.0\n137    280.0\n15     171.0\n411    136.0\n94      90.0\n77     200.0\n433     72.0\n56      52.0\n153     71.0\n437    178.0\n227    108.0\n19     168.0\n358     90.0\n84      65.0\n0      151.0\n423     91.0\n39      90.0\n173    101.0\n286     60.0\n101    102.0\n239    262.0\n157     84.0\n132    107.0\n369    167.0\n211     70.0\n11      69.0\n181     64.0\n72     202.0\n399    232.0\n391     63.0\n237     72.0\n296     89.0\n57      37.0\n93      96.0\n278    102.0\n9      310.0\n320    122.0\n203    222.0\n45      53.0\n329    135.0\n245    125.0\n131    158.0\n332    270.0\nName: target, dtype: float64, array([112.38671889, 172.30314144, 200.68460475, 134.46119036,\n       209.09392721, 135.51235566, 116.59138012,  93.46574335,\n       192.27528228, 109.23322297, 171.25197613, 122.89837197,\n       134.46119036,  69.28894127, 113.4378842 , 212.24742313,\n       113.4378842 , 165.99614959,  74.54476781,  98.72156989,\n       108.18205766, 171.25197613, 119.74487605, 131.30769443,\n       189.12178636, 188.07062105, 169.14964551, 110.28438828,\n       148.12633936, 174.40547205,  84.00525558,  85.05642089,\n        92.41457804,  90.31224743,  89.26108212, 116.59138012,\n       190.17295167, 181.76362921, 181.76362921, 117.64254543,\n        97.67040458, 117.64254543,  84.00525558, 254.29403544]))",
         "(176    237.0\n429     94.0\n73     111.0\n255    153.0\n218    214.0\n       ...  \n321    230.0\n268    264.0\n307    172.0\n90      98.0\n367    242.0\nName: target, Length: 67, dtype: float64, array([171.25197613, 119.74487605, 132.35885974,  88.20991681,\n        88.20991681, 118.69371074, 242.73121706, 117.64254543,\n       219.60558029,  95.56807397, 132.35885974, 148.12633936,\n       146.02400874, 140.7681822 , 179.66129859, 134.46119036,\n       107.13089235, 131.30769443, 177.55896798, 130.25652913,\n        92.41457804, 121.84720666, 170.20081082, 210.14509252,\n       103.97739643, 115.54021482, 102.92623112, 211.19625783,\n       157.58682713, 108.18205766, 163.89381897, 134.46119036,\n       167.0473149 , 146.02400874, 215.40091906, 139.7170169 ,\n        79.80059435,  84.00525558, 128.15419851, 112.38671889,\n       204.88926598,  95.56807397, 228.01490275, 221.7079109 ,\n       172.30314144, 191.22411698, 128.15419851, 196.47994352,\n       119.74487605, 140.7681822 , 141.81934751, 134.46119036,\n       209.09392721, 187.01945575,  88.20991681, 165.99614959,\n        64.03311473,  95.56807397, 153.3821659 , 165.99614959,\n       190.17295167, 195.42877821, 202.78693536, 238.52655583,\n       121.84720666, 127.1030332 , 318.41511922]))",
         "0.33126358919280885"
        ],
        [
         "2",
         "2",
         "3924.3885432094044",
         "(5       97.0\n360    281.0\n137    280.0\n15     171.0\n411    136.0\n94      90.0\n77     200.0\n433     72.0\n56      52.0\n153     71.0\n437    178.0\n227    108.0\n19     168.0\n358     90.0\n84      65.0\n0      151.0\n423     91.0\n39      90.0\n173    101.0\n286     60.0\n101    102.0\n239    262.0\n157     84.0\n132    107.0\n369    167.0\n211     70.0\n11      69.0\n181     64.0\n72     202.0\n399    232.0\n391     63.0\n237     72.0\n296     89.0\n57      37.0\n93      96.0\n278    102.0\n9      310.0\n320    122.0\n203    222.0\n45      53.0\n329    135.0\n245    125.0\n131    158.0\n332    270.0\nName: target, dtype: float64, array([113.10512604, 170.16829388, 199.55594444, 133.34248875,\n       208.55447411, 134.32904308, 116.88917151,  96.48858839,\n       190.69047884, 110.28892276, 169.10897015, 122.6276135 ,\n       133.34248875,  76.23665377, 114.04801872, 211.96322831,\n       114.04801872, 163.84353835,  80.54568758, 101.0367217 ,\n       109.35434659, 169.10897015, 119.74903644, 130.39530053,\n       187.40023482, 186.30764507, 166.99656005, 111.22557806,\n       146.32986682, 172.29317874,  88.43293338,  89.31968966,\n        95.58519911,  93.78465792,  92.88750602, 116.88917151,\n       188.4949037 , 179.79576819, 179.79576819, 117.84038069,\n       100.12293678, 117.84038069,  88.43293338, 259.20133278]))",
         "(176    237.0\n429     94.0\n73     111.0\n255    153.0\n218    214.0\n       ...  \n321    230.0\n268    264.0\n307    172.0\n90      98.0\n367    242.0\nName: target, Length: 67, dtype: float64, array([169.10897015, 119.74903644, 131.37561748,  91.99243324,\n        91.99243324, 118.793669  , 245.87923344, 117.84038069,\n       219.98975753,  98.30160434, 131.37561748, 146.32986682,\n       144.30893827, 139.2930016 , 177.64177557, 133.34248875,\n       108.42184954, 130.39530053, 175.49609946, 129.41706271,\n        95.58519911, 121.66600868, 168.05172553, 209.68864638,\n       105.63683315, 115.94004145, 104.71265261, 210.82489778,\n       155.52696203, 109.35434659, 161.75191951, 133.34248875,\n       164.89246646, 144.30893827, 215.39069465, 138.29605164,\n        84.90669954,  88.43293338, 127.46682445, 113.10512604,\n       204.03857626,  98.30160434, 229.28768135, 222.30176373,\n       170.16829388, 189.59165171, 127.46682445, 195.10657863,\n       119.74903644, 139.2930016 , 140.29203068, 133.34248875,\n       208.55447411, 185.21713444,  91.99243324, 163.84353835,\n        71.97959812,  98.30160434, 151.4185729 , 163.84353835,\n       188.4949037 , 193.999435  , 201.7931021 , 241.09720747,\n       121.66600868, 126.49482401, 337.64418991]))",
         "0.33163059113292626"
        ],
        [
         "3",
         "3",
         "3924.3276109137055",
         "(5       97.0\n360    281.0\n137    280.0\n15     171.0\n411    136.0\n94      90.0\n77     200.0\n433     72.0\n56      52.0\n153     71.0\n437    178.0\n227    108.0\n19     168.0\n358     90.0\n84      65.0\n0      151.0\n423     91.0\n39      90.0\n173    101.0\n286     60.0\n101    102.0\n239    262.0\n157     84.0\n132    107.0\n369    167.0\n211     70.0\n11      69.0\n181     64.0\n72     202.0\n399    232.0\n391     63.0\n237     72.0\n296     89.0\n57      37.0\n93      96.0\n278    102.0\n9      310.0\n320    122.0\n203    222.0\n45      53.0\n329    135.0\n245    125.0\n131    158.0\n332    270.0\nName: target, dtype: float64, array([112.98004273, 170.2097024 , 199.80304776, 133.16052403,\n       208.83710726, 134.14903777, 116.73687341,  96.60598822,\n       190.88655535, 110.19011279, 169.14182594, 122.44999874,\n       133.16052403,  77.01735359, 113.91531338, 212.25419008,\n       113.91531338, 163.83420794,  81.14329121, 101.06530346,\n       109.26546204, 169.14182594, 119.58185463, 130.20965935,\n       187.57418073, 186.47392755, 167.01239718, 111.11743287,\n       146.19801801, 172.35173166,  88.75723281,  89.61784856,\n        95.72252539,  93.96407651,  93.08910959, 116.73687341,\n       188.67637614, 179.91373094, 179.91373094, 117.68261088,\n       100.16787215, 117.68261088,  88.75723281, 259.20312221]))",
         "(176    237.0\n429     94.0\n73     111.0\n255    153.0\n218    214.0\n       ...  \n321    230.0\n268    264.0\n307    172.0\n90      98.0\n367    242.0\nName: target, Length: 67, dtype: float64, array([169.14182594, 119.58185463, 131.19082525,  92.21699376,\n        92.21699376, 118.63094114, 246.05104908, 117.68261088,\n       220.28754804,  98.38134279, 131.19082525, 146.19801801,\n       144.16625475, 139.12786737, 177.74297024, 133.16052403,\n       108.34349018, 130.20965935, 175.58032285, 129.23096186,\n        95.72252539, 121.49139299, 168.07605434, 209.97438718,\n       105.59374362, 115.79373829, 104.682583  , 211.11341797,\n       155.45445708, 109.26546204, 161.72616268, 133.16052403,\n       164.89146441, 144.16625475, 215.68685863, 138.12729856,\n        85.34385483,  88.75723281, 127.2810104 , 112.98004273,\n       204.30568777,  98.38134279, 229.56822389, 222.59791968,\n       170.2097024 , 189.7805042 , 127.2810104 , 195.32979952,\n       119.58185463, 139.12786737, 140.13081849, 133.16052403,\n       208.83710726, 185.37562617,  92.21699376, 163.83420794,\n        72.96723786,  98.38134279, 151.31777721, 163.83420794,\n       188.67637614, 194.21615168, 202.05073206, 241.31143637,\n       121.49139299, 126.30977557, 334.7497321 ]))",
         "0.3316375420464187"
        ],
        [
         "4",
         "4",
         "3910.7890796578745",
         "(5       97.0\n360    281.0\n137    280.0\n15     171.0\n411    136.0\n94      90.0\n77     200.0\n433     72.0\n56      52.0\n153     71.0\n437    178.0\n227    108.0\n19     168.0\n358     90.0\n84      65.0\n0      151.0\n423     91.0\n39      90.0\n173    101.0\n286     60.0\n101    102.0\n239    262.0\n157     84.0\n132    107.0\n369    167.0\n211     70.0\n11      69.0\n181     64.0\n72     202.0\n399    232.0\n391     63.0\n237     72.0\n296     89.0\n57      37.0\n93      96.0\n278    102.0\n9      310.0\n320    122.0\n203    222.0\n45      53.0\n329    135.0\n245    125.0\n131    158.0\n332    270.0\nName: target, dtype: float64, array([109.45425865, 173.63892818, 201.1469836 , 132.23844376,\n       208.67989252, 133.39707746, 113.46335287,  94.88557353,\n       193.38078011, 106.59702618, 172.54604847, 119.82754565,\n       132.23844376,  89.83454298, 110.43638769, 211.46672173,\n       110.43638769, 167.00638216,  89.18201647,  98.23690734,\n       105.67643933, 172.54604847, 116.59882222, 128.7857493 ,\n       190.3916667 , 189.38509643, 170.34494615, 107.53395095,\n       147.43997256, 175.80895805,  90.63006282,  90.9758982 ,\n        94.29350945,  93.19388042,  92.68793258, 113.46335287,\n       191.39307903, 183.23379344, 183.23379344, 114.49722233,\n        97.5170732 , 114.49722233,  90.63006282, 251.80121476]))",
         "(176    237.0\n429     94.0\n73     111.0\n255    153.0\n218    214.0\n       ...  \n321    230.0\n268    264.0\n307    172.0\n90      98.0\n367    242.0\nName: target, Length: 67, dtype: float64, array([172.54604847, 116.59882222, 129.93235346,  92.2123232 ,\n        92.2123232 , 115.54256704, 239.35719063, 114.49722233,\n       217.946221  ,  96.15022968, 129.93235346, 147.43997256,\n       145.09471928, 139.22994297, 181.13978336, 132.23844376,\n       104.77284123, 128.7857493 , 179.02380575, 127.64402335,\n        94.29350945, 118.74185244, 171.44802549, 209.61038201,\n       102.1706313 , 112.44153307, 101.34168785, 210.53923297,\n       157.91177144, 105.67643933, 164.7574141 , 132.23844376,\n       168.1240137 , 145.09471928, 214.24392157, 138.05937021,\n        89.6015349 ,  90.63006282, 125.37701611, 109.45425865,\n       204.93635709,  96.15022968, 225.43274643, 219.80314849,\n       173.63892818, 192.3894186 , 125.37701611, 197.29867472,\n       116.59882222, 139.22994297, 140.40177304, 132.23844376,\n       208.67989252, 188.37329262,  92.2123232 , 167.00638216,\n        91.68228857,  96.15022968, 153.28032565, 167.00638216,\n       191.39307903, 196.32608699, 203.04827604, 235.21521748,\n       118.74185244, 124.25266371, 390.94789401]))",
         "0.3407583945439766"
        ],
        [
         "5",
         "5",
         "3904.2214216477123",
         "(5       97.0\n360    281.0\n137    280.0\n15     171.0\n411    136.0\n94      90.0\n77     200.0\n433     72.0\n56      52.0\n153     71.0\n437    178.0\n227    108.0\n19     168.0\n358     90.0\n84      65.0\n0      151.0\n423     91.0\n39      90.0\n173    101.0\n286     60.0\n101    102.0\n239    262.0\n157     84.0\n132    107.0\n369    167.0\n211     70.0\n11      69.0\n181     64.0\n72     202.0\n399    232.0\n391     63.0\n237     72.0\n296     89.0\n57      37.0\n93      96.0\n278    102.0\n9      310.0\n320    122.0\n203    222.0\n45      53.0\n329    135.0\n245    125.0\n131    158.0\n332    270.0\nName: target, dtype: float64, array([107.71958458, 173.9695137 , 198.63440931, 133.44806518,\n       205.95764248, 134.69920032, 112.34767231,  91.96517172,\n       191.48905221, 104.43264128, 172.99168695, 119.64660679,\n       133.44806518,  98.71553793, 108.85310031, 208.79569777,\n       108.85310031, 167.9835596 ,  93.26258478,  95.18947331,\n       103.37981884, 172.99168695, 115.95618091, 129.67959438,\n       188.80956084, 187.9129959 , 171.01286237, 105.50789034,\n       149.30017397, 175.90319406,  89.59650731,  89.59888073,\n        91.46494233,  90.62740613,  90.2949146 , 112.34767231,\n       189.70414915, 182.46980708, 182.46980708, 113.53949896,\n        94.45550459, 113.53949896,  89.59650731, 256.51321893]))",
         "(176    237.0\n429     94.0\n73     111.0\n255    153.0\n218    214.0\n       ...  \n321    230.0\n268    264.0\n307    172.0\n90      98.0\n367    242.0\nName: target, Length: 67, dtype: float64, array([172.99168695, 115.95618091, 130.93762022,  90.02324247,\n        90.02324247, 114.74273028, 241.15814108, 113.53949896,\n       215.70125625,  93.11692117, 130.93762022, 149.30017397,\n       146.93472922, 140.89128873, 180.62201356, 133.44806518,\n       102.35100096, 129.67959438, 178.75279703, 128.42061233,\n        91.46494233, 118.40920308, 172.00621145, 206.89679803,\n        99.42505077, 111.16847725,  98.50896306, 207.84267549,\n       159.51853121, 103.37981884, 165.92125195, 133.44806518,\n       169.00172171, 146.93472922, 211.70178482, 139.66305478,\n        90.35677167,  89.59650731, 125.90272598, 107.71958458,\n       202.25963626,  93.11692117, 224.21628347, 217.7613179 ,\n       173.9695137 , 190.59717355, 125.90272598, 195.05363545,\n       115.95618091, 140.89128873, 142.1135167 , 133.44806518,\n       205.95764248, 187.01404763,  90.02324247, 167.9835596 ,\n       107.15419393,  93.11692117, 155.06652626, 167.9835596 ,\n       189.70414915, 194.16206674, 200.43969099, 236.02708427,\n       118.40920308, 124.64538358, 345.71106916]))",
         "0.34988122550535306"
        ]
       ],
       "shape": {
        "columns": 5,
        "rows": 6
       }
      },
      "text/html": [
       "<div>\n",
       "<style scoped>\n",
       "    .dataframe tbody tr th:only-of-type {\n",
       "        vertical-align: middle;\n",
       "    }\n",
       "\n",
       "    .dataframe tbody tr th {\n",
       "        vertical-align: top;\n",
       "    }\n",
       "\n",
       "    .dataframe thead th {\n",
       "        text-align: right;\n",
       "    }\n",
       "</style>\n",
       "<table border=\"1\" class=\"dataframe\">\n",
       "  <thead>\n",
       "    <tr style=\"text-align: right;\">\n",
       "      <th></th>\n",
       "      <th>Degree</th>\n",
       "      <th>Train MSE</th>\n",
       "      <th>Validation MSE</th>\n",
       "      <th>Test MSE</th>\n",
       "      <th>Validation R²</th>\n",
       "    </tr>\n",
       "  </thead>\n",
       "  <tbody>\n",
       "    <tr>\n",
       "      <th>0</th>\n",
       "      <td>0</td>\n",
       "      <td>6044.624584</td>\n",
       "      <td>([97.0, 281.0, 280.0, 171.0, 136.0, 90.0, 200....</td>\n",
       "      <td>([237.0, 94.0, 111.0, 153.0, 214.0, 140.0, 140...</td>\n",
       "      <td>-0.106957</td>\n",
       "    </tr>\n",
       "    <tr>\n",
       "      <th>1</th>\n",
       "      <td>1</td>\n",
       "      <td>3930.989516</td>\n",
       "      <td>([97.0, 281.0, 280.0, 171.0, 136.0, 90.0, 200....</td>\n",
       "      <td>([237.0, 94.0, 111.0, 153.0, 214.0, 140.0, 140...</td>\n",
       "      <td>0.331264</td>\n",
       "    </tr>\n",
       "    <tr>\n",
       "      <th>2</th>\n",
       "      <td>2</td>\n",
       "      <td>3924.388543</td>\n",
       "      <td>([97.0, 281.0, 280.0, 171.0, 136.0, 90.0, 200....</td>\n",
       "      <td>([237.0, 94.0, 111.0, 153.0, 214.0, 140.0, 140...</td>\n",
       "      <td>0.331631</td>\n",
       "    </tr>\n",
       "    <tr>\n",
       "      <th>3</th>\n",
       "      <td>3</td>\n",
       "      <td>3924.327611</td>\n",
       "      <td>([97.0, 281.0, 280.0, 171.0, 136.0, 90.0, 200....</td>\n",
       "      <td>([237.0, 94.0, 111.0, 153.0, 214.0, 140.0, 140...</td>\n",
       "      <td>0.331638</td>\n",
       "    </tr>\n",
       "    <tr>\n",
       "      <th>4</th>\n",
       "      <td>4</td>\n",
       "      <td>3910.789080</td>\n",
       "      <td>([97.0, 281.0, 280.0, 171.0, 136.0, 90.0, 200....</td>\n",
       "      <td>([237.0, 94.0, 111.0, 153.0, 214.0, 140.0, 140...</td>\n",
       "      <td>0.340758</td>\n",
       "    </tr>\n",
       "    <tr>\n",
       "      <th>5</th>\n",
       "      <td>5</td>\n",
       "      <td>3904.221422</td>\n",
       "      <td>([97.0, 281.0, 280.0, 171.0, 136.0, 90.0, 200....</td>\n",
       "      <td>([237.0, 94.0, 111.0, 153.0, 214.0, 140.0, 140...</td>\n",
       "      <td>0.349881</td>\n",
       "    </tr>\n",
       "  </tbody>\n",
       "</table>\n",
       "</div>"
      ],
      "text/plain": [
       "   Degree    Train MSE                                     Validation MSE  \\\n",
       "0       0  6044.624584  ([97.0, 281.0, 280.0, 171.0, 136.0, 90.0, 200....   \n",
       "1       1  3930.989516  ([97.0, 281.0, 280.0, 171.0, 136.0, 90.0, 200....   \n",
       "2       2  3924.388543  ([97.0, 281.0, 280.0, 171.0, 136.0, 90.0, 200....   \n",
       "3       3  3924.327611  ([97.0, 281.0, 280.0, 171.0, 136.0, 90.0, 200....   \n",
       "4       4  3910.789080  ([97.0, 281.0, 280.0, 171.0, 136.0, 90.0, 200....   \n",
       "5       5  3904.221422  ([97.0, 281.0, 280.0, 171.0, 136.0, 90.0, 200....   \n",
       "\n",
       "                                            Test MSE  Validation R²  \n",
       "0  ([237.0, 94.0, 111.0, 153.0, 214.0, 140.0, 140...      -0.106957  \n",
       "1  ([237.0, 94.0, 111.0, 153.0, 214.0, 140.0, 140...       0.331264  \n",
       "2  ([237.0, 94.0, 111.0, 153.0, 214.0, 140.0, 140...       0.331631  \n",
       "3  ([237.0, 94.0, 111.0, 153.0, 214.0, 140.0, 140...       0.331638  \n",
       "4  ([237.0, 94.0, 111.0, 153.0, 214.0, 140.0, 140...       0.340758  \n",
       "5  ([237.0, 94.0, 111.0, 153.0, 214.0, 140.0, 140...       0.349881  "
      ]
     },
     "metadata": {},
     "output_type": "display_data"
    }
   ],
   "source": [
    "# Train Polynomial Models\n",
    "\n",
    "results = []\n",
    "\n",
    "# Loop over polynomial degrees 0 to 5\n",
    "for degree in range(6):\n",
    "    # Transform feature\n",
    "    poly = PolynomialFeatures(degree=degree)\n",
    "    X_train_poly = poly.fit_transform(X_train_bmi)\n",
    "    X_val_poly = poly.fit_transform(X_val_bmi)\n",
    "    X_test_poly = poly.fit_transform(X_test_bmi)\n",
    "    \n",
    "    # Fit model\n",
    "    model = LinearRegression()\n",
    "    model.fit(X_train_poly,Y_train_bmi)\n",
    "    \n",
    "    # Predictions\n",
    "    Y_train_pred = model.predict(X_train_poly)\n",
    "    Y_val_pred = model.predict(X_val_poly)\n",
    "    Y_test_pred = model.predict(X_test_poly)\n",
    "    \n",
    "    # Evaluation metrics\n",
    "    train_mse = mean_squared_error(Y_train_bmi,Y_train_pred)\n",
    "    val_mse = (Y_val_bmi,Y_val_pred)\n",
    "    test_mse = (Y_test_bmi,Y_test_pred)\n",
    "    r2_val = r2_score(Y_val_bmi,Y_val_pred)\n",
    "    \n",
    "    results.append({\n",
    "        \"Degree\": degree,\n",
    "        \"Train MSE\": train_mse,\n",
    "        \"Validation MSE\": val_mse,\n",
    "        \"Test MSE\": test_mse,\n",
    "        \"Validation R²\": r2_val\n",
    "    })\n",
    "    \n",
    "results_df = pd.DataFrame(results)\n",
    "display(results_df)"
   ]
  },
  {
   "cell_type": "code",
   "execution_count": 24,
   "id": "33ca581a",
   "metadata": {},
   "outputs": [
    {
     "data": {
      "image/png": "[encoded data removed]",
      "text/plain": [
       "<Figure size 1000x600 with 1 Axes>"
      ]
     },
     "metadata": {},
     "output_type": "display_data"
    }
   ],
   "source": [
    "# Create sorted BMI range for plotting\n",
    "bmi_range = np.linspace(X_train_bmi.min(), X_train_bmi.max(), 100).reshape(-1, 1)\n",
    "\n",
    "plt.figure(figsize=(10,6))\n",
    "plt.scatter(X_train_bmi, Y_train_bmi, color='gray', alpha=0.6, label='Training Data')\n",
    "\n",
    "colors = ['black', 'blue', 'green', 'orange', 'red', 'purple']\n",
    "for degree, color in zip(range(6), colors):\n",
    "    poly = PolynomialFeatures(degree)\n",
    "    X_plot_poly = poly.fit_transform(bmi_range)\n",
    "    model = LinearRegression().fit(poly.fit_transform(X_train_bmi), Y_train_bmi)\n",
    "    y_plot = model.predict(X_plot_poly)\n",
    "    plt.plot(bmi_range, y_plot, color=color, label=f'Degree {degree}')\n",
    "\n",
    "plt.title('Polynomial Regression Fits (BMI vs Disease Progression)')\n",
    "plt.xlabel('BMI')\n",
    "plt.ylabel('Disease Progression')\n",
    "plt.legend()\n",
    "plt.show()\n"
   ]
  },
  {
   "cell_type": "markdown",
   "id": "50c8bb4c",
   "metadata": {},
   "source": [
    "# Modeling: Multivariate Linear Regression (All Features)\n",
    "\n",
    "In this step, we use **all ten baseline variables** to predict diabetes disease progression.\n",
    "\n",
    "Unlike the previous univariate model (BMI only), this model considers the combined influence of:\n",
    "- Age  \n",
    "- Sex  \n",
    "- BMI  \n",
    "- Average Blood Pressure (bp)  \n",
    "- Serum measurements (s1–s6)\n",
    "\n",
    "### Objective\n",
    "To compare:\n",
    "- How much better a multivariate model performs compared to a single-feature (BMI) model.\n",
    "- Whether multiple predictors can explain more variance (higher R²).\n",
    "\n",
    "We will train the model using the **training set**, evaluate on **validation** and **test** sets, and analyze model coefficients for interpretability.\n"
   ]
  },
  {
   "cell_type": "code",
   "execution_count": 25,
   "id": "187e442b",
   "metadata": {},
   "outputs": [],
   "source": [
    "from sklearn.linear_model import LinearRegression\n",
    "from sklearn.metrics import mean_squared_error, r2_score\n",
    "\n",
    "# Initialize model\n",
    "multi_model = LinearRegression()\n",
    "\n",
    "# Fit training data\n",
    "multi_model.fit(X_train,Y_train)\n",
    "\n",
    "# Predictions\n",
    "Y_train_pred = multi_model.predict(X_train)\n",
    "Y_val_pred = multi_model.predict(X_val)\n",
    "Y_test_pred = multi_model.predict(X_test)"
   ]
  },
  {
   "cell_type": "code",
   "execution_count": 26,
   "id": "1b1ff325",
   "metadata": {},
   "outputs": [
    {
     "name": "stdout",
     "output_type": "stream",
     "text": [
      "Training MSE: 2907.26, R²: 0.519\n",
      "Validation MSE: 3128.07, R²: 0.385\n",
      "Test MSE: 2664.59, R²: 0.524\n"
     ]
    }
   ],
   "source": [
    "# Evaluation Performance\n",
    "\n",
    "# Compute metrics\n",
    "train_mse = mean_squared_error(Y_train, Y_train_pred)\n",
    "val_mse = mean_squared_error(Y_val, Y_val_pred)\n",
    "test_mse = mean_squared_error(Y_test, Y_test_pred)\n",
    "\n",
    "train_r2 = r2_score(Y_train, Y_train_pred)\n",
    "val_r2 = r2_score(Y_val, Y_val_pred)\n",
    "test_r2 = r2_score(Y_test, Y_test_pred)\n",
    "\n",
    "# Print results\n",
    "print(f\"Training MSE: {train_mse:.2f}, R²: {train_r2:.3f}\")\n",
    "print(f\"Validation MSE: {val_mse:.2f}, R²: {val_r2:.3f}\")\n",
    "print(f\"Test MSE: {test_mse:.2f}, R²: {test_r2:.3f}\")\n"
   ]
  },
  {
   "cell_type": "code",
   "execution_count": 27,
   "id": "1cc5f23f",
   "metadata": {},
   "outputs": [
    {
     "data": {
      "application/vnd.microsoft.datawrangler.viewer.v0+json": {
       "columns": [
        {
         "name": "index",
         "rawType": "int64",
         "type": "integer"
        },
        {
         "name": "Feature",
         "rawType": "object",
         "type": "string"
        },
        {
         "name": "Coefficient",
         "rawType": "float64",
         "type": "float"
        }
       ],
       "ref": "0a7c7f3b-dac2-43f7-958b-21338e84a6f9",
       "rows": [
        [
         "8",
         "s5",
         "695.8081171154513"
        ],
        [
         "2",
         "bmi",
         "531.9710628796018"
        ],
        [
         "5",
         "s2",
         "508.25778251946895"
        ],
        [
         "3",
         "bp",
         "381.56286182427374"
        ],
        [
         "7",
         "s4",
         "269.4923027979245"
        ],
        [
         "6",
         "s3",
         "116.9501644698284"
        ],
        [
         "0",
         "age",
         "47.74968054051883"
        ],
        [
         "9",
         "s6",
         "26.324582028085743"
        ],
        [
         "1",
         "sex",
         "-241.99090727900418"
        ],
        [
         "4",
         "s1",
         "-918.5029045531519"
        ]
       ],
       "shape": {
        "columns": 2,
        "rows": 10
       }
      },
      "text/html": [
       "<div>\n",
       "<style scoped>\n",
       "    .dataframe tbody tr th:only-of-type {\n",
       "        vertical-align: middle;\n",
       "    }\n",
       "\n",
       "    .dataframe tbody tr th {\n",
       "        vertical-align: top;\n",
       "    }\n",
       "\n",
       "    .dataframe thead th {\n",
       "        text-align: right;\n",
       "    }\n",
       "</style>\n",
       "<table border=\"1\" class=\"dataframe\">\n",
       "  <thead>\n",
       "    <tr style=\"text-align: right;\">\n",
       "      <th></th>\n",
       "      <th>Feature</th>\n",
       "      <th>Coefficient</th>\n",
       "    </tr>\n",
       "  </thead>\n",
       "  <tbody>\n",
       "    <tr>\n",
       "      <th>8</th>\n",
       "      <td>s5</td>\n",
       "      <td>695.808117</td>\n",
       "    </tr>\n",
       "    <tr>\n",
       "      <th>2</th>\n",
       "      <td>bmi</td>\n",
       "      <td>531.971063</td>\n",
       "    </tr>\n",
       "    <tr>\n",
       "      <th>5</th>\n",
       "      <td>s2</td>\n",
       "      <td>508.257783</td>\n",
       "    </tr>\n",
       "    <tr>\n",
       "      <th>3</th>\n",
       "      <td>bp</td>\n",
       "      <td>381.562862</td>\n",
       "    </tr>\n",
       "    <tr>\n",
       "      <th>7</th>\n",
       "      <td>s4</td>\n",
       "      <td>269.492303</td>\n",
       "    </tr>\n",
       "    <tr>\n",
       "      <th>6</th>\n",
       "      <td>s3</td>\n",
       "      <td>116.950164</td>\n",
       "    </tr>\n",
       "    <tr>\n",
       "      <th>0</th>\n",
       "      <td>age</td>\n",
       "      <td>47.749681</td>\n",
       "    </tr>\n",
       "    <tr>\n",
       "      <th>9</th>\n",
       "      <td>s6</td>\n",
       "      <td>26.324582</td>\n",
       "    </tr>\n",
       "    <tr>\n",
       "      <th>1</th>\n",
       "      <td>sex</td>\n",
       "      <td>-241.990907</td>\n",
       "    </tr>\n",
       "    <tr>\n",
       "      <th>4</th>\n",
       "      <td>s1</td>\n",
       "      <td>-918.502905</td>\n",
       "    </tr>\n",
       "  </tbody>\n",
       "</table>\n",
       "</div>"
      ],
      "text/plain": [
       "  Feature  Coefficient\n",
       "8      s5   695.808117\n",
       "2     bmi   531.971063\n",
       "5      s2   508.257783\n",
       "3      bp   381.562862\n",
       "7      s4   269.492303\n",
       "6      s3   116.950164\n",
       "0     age    47.749681\n",
       "9      s6    26.324582\n",
       "1     sex  -241.990907\n",
       "4      s1  -918.502905"
      ]
     },
     "execution_count": 27,
     "metadata": {},
     "output_type": "execute_result"
    }
   ],
   "source": [
    "# Inspect Model Co-efficients\n",
    "coefficients = pd.DataFrame({\n",
    "    'Feature': X_train.columns,\n",
    "    'Coefficient': multi_model.coef_\n",
    "}).sort_values(by='Coefficient', ascending=False)\n",
    "\n",
    "coefficients\n"
   ]
  },
  {
   "cell_type": "markdown",
   "id": "221cd7bd",
   "metadata": {},
   "source": [
    "### Insights:\n",
    "- BMI and S5 remain dominant positive predictors.\n",
    "- S3 and S2 show negative coefficients, indicating inverse relationships.\n",
    "- The signs and magnitudes align with physiological expectations."
   ]
  },
  {
   "cell_type": "code",
   "execution_count": 28,
   "id": "0b5d59f1",
   "metadata": {},
   "outputs": [
    {
     "data": {
      "image/png": "[encoded data removed]",
      "text/plain": [
       "<Figure size 600x600 with 1 Axes>"
      ]
     },
     "metadata": {},
     "output_type": "display_data"
    }
   ],
   "source": [
    "# Visualize Predictions\n",
    "plt.figure(figsize=(6,6))\n",
    "plt.scatter(Y_test, Y_test_pred, color='teal', alpha=0.7)\n",
    "plt.plot([Y_test.min(), Y_test.max()], [Y_test.min(), Y_test.max()], 'r--', lw=2)\n",
    "plt.xlabel(\"Actual Disease Progression\")\n",
    "plt.ylabel(\"Predicted Disease Progression\")\n",
    "plt.title(\"Predicted vs Actual (Test Set)\")\n",
    "plt.show()\n"
   ]
  },
  {
   "cell_type": "markdown",
   "id": "1486de34",
   "metadata": {},
   "source": [
    "### Reasoning\n",
    "The multivariate model leverages the combined predictive power of physiological and biochemical indicators.\n",
    "While it performs better than a univariate model, the R² ≈ 0.5 shows that half of the disease progression variability remains unexplained — hinting at the influence of other non-measured factors or nonlinear interactions."
   ]
  },
  {
   "cell_type": "markdown",
   "id": "64af6c2c",
   "metadata": {},
   "source": [
    "# Step 7: Compare Models (Training vs Validation)\n",
    "\n",
    "We will compare all models on three key metrics:\n",
    "\n",
    "| Metric | Meaning |\n",
    "|---------|----------|\n",
    "| **R²** | Measures how well the model explains variability in the target. Higher = better. |\n",
    "| **MAE** | Average absolute error in prediction. Lower = better. |\n",
    "| **MAPE** | Mean absolute percentage error. Lower = better, but unstable if targets ≈ 0. |\n",
    "\n",
    "The comparison includes:\n",
    "- **Polynomial models (Degrees 0 – 5)** using only the BMI feature  \n",
    "- **Multivariate Linear Regression** using all 10 features"
   ]
  },
  {
   "cell_type": "code",
   "execution_count": 29,
   "id": "e804e384",
   "metadata": {},
   "outputs": [
    {
     "data": {
      "application/vnd.microsoft.datawrangler.viewer.v0+json": {
       "columns": [
        {
         "name": "index",
         "rawType": "int64",
         "type": "integer"
        },
        {
         "name": "Model",
         "rawType": "object",
         "type": "string"
        },
        {
         "name": "Train R²",
         "rawType": "float64",
         "type": "float"
        },
        {
         "name": "Val R²",
         "rawType": "float64",
         "type": "float"
        },
        {
         "name": "Train MAE",
         "rawType": "float64",
         "type": "float"
        },
        {
         "name": "Val MAE",
         "rawType": "float64",
         "type": "float"
        },
        {
         "name": "Train MAPE (%)",
         "rawType": "float64",
         "type": "float"
        },
        {
         "name": "Val MAPE (%)",
         "rawType": "float64",
         "type": "float"
        }
       ],
       "ref": "5feffc5e-3f2a-4a63-a50b-b00d81b4907c",
       "rows": [
        [
         "0",
         "Poly (deg 0)",
         "0.0",
         "-0.107",
         "66.202",
         "66.057",
         "62.827",
         "71.264"
        ],
        [
         "1",
         "Poly (deg 1)",
         "0.35",
         "0.331",
         "52.288",
         "47.208",
         "48.363",
         "47.06"
        ],
        [
         "2",
         "Poly (deg 2)",
         "0.351",
         "0.332",
         "52.207",
         "47.214",
         "48.299",
         "47.24"
        ],
        [
         "3",
         "Poly (deg 3)",
         "0.351",
         "0.332",
         "52.199",
         "47.185",
         "48.281",
         "47.223"
        ],
        [
         "4",
         "Poly (deg 4)",
         "0.353",
         "0.341",
         "52.093",
         "46.09",
         "48.053",
         "46.05"
        ],
        [
         "5",
         "Poly (deg 5)",
         "0.354",
         "0.35",
         "52.059",
         "45.462",
         "48.004",
         "45.175"
        ],
        [
         "6",
         "Multivariate Linear Regression",
         "0.519",
         "0.385",
         "44.055",
         "41.83",
         "39.371",
         "40.953"
        ]
       ],
       "shape": {
        "columns": 7,
        "rows": 7
       }
      },
      "text/html": [
       "<div>\n",
       "<style scoped>\n",
       "    .dataframe tbody tr th:only-of-type {\n",
       "        vertical-align: middle;\n",
       "    }\n",
       "\n",
       "    .dataframe tbody tr th {\n",
       "        vertical-align: top;\n",
       "    }\n",
       "\n",
       "    .dataframe thead th {\n",
       "        text-align: right;\n",
       "    }\n",
       "</style>\n",
       "<table border=\"1\" class=\"dataframe\">\n",
       "  <thead>\n",
       "    <tr style=\"text-align: right;\">\n",
       "      <th></th>\n",
       "      <th>Model</th>\n",
       "      <th>Train R²</th>\n",
       "      <th>Val R²</th>\n",
       "      <th>Train MAE</th>\n",
       "      <th>Val MAE</th>\n",
       "      <th>Train MAPE (%)</th>\n",
       "      <th>Val MAPE (%)</th>\n",
       "    </tr>\n",
       "  </thead>\n",
       "  <tbody>\n",
       "    <tr>\n",
       "      <th>0</th>\n",
       "      <td>Poly (deg 0)</td>\n",
       "      <td>0.000</td>\n",
       "      <td>-0.107</td>\n",
       "      <td>66.202</td>\n",
       "      <td>66.057</td>\n",
       "      <td>62.827</td>\n",
       "      <td>71.264</td>\n",
       "    </tr>\n",
       "    <tr>\n",
       "      <th>1</th>\n",
       "      <td>Poly (deg 1)</td>\n",
       "      <td>0.350</td>\n",
       "      <td>0.331</td>\n",
       "      <td>52.288</td>\n",
       "      <td>47.208</td>\n",
       "      <td>48.363</td>\n",
       "      <td>47.060</td>\n",
       "    </tr>\n",
       "    <tr>\n",
       "      <th>2</th>\n",
       "      <td>Poly (deg 2)</td>\n",
       "      <td>0.351</td>\n",
       "      <td>0.332</td>\n",
       "      <td>52.207</td>\n",
       "      <td>47.214</td>\n",
       "      <td>48.299</td>\n",
       "      <td>47.240</td>\n",
       "    </tr>\n",
       "    <tr>\n",
       "      <th>3</th>\n",
       "      <td>Poly (deg 3)</td>\n",
       "      <td>0.351</td>\n",
       "      <td>0.332</td>\n",
       "      <td>52.199</td>\n",
       "      <td>47.185</td>\n",
       "      <td>48.281</td>\n",
       "      <td>47.223</td>\n",
       "    </tr>\n",
       "    <tr>\n",
       "      <th>4</th>\n",
       "      <td>Poly (deg 4)</td>\n",
       "      <td>0.353</td>\n",
       "      <td>0.341</td>\n",
       "      <td>52.093</td>\n",
       "      <td>46.090</td>\n",
       "      <td>48.053</td>\n",
       "      <td>46.050</td>\n",
       "    </tr>\n",
       "    <tr>\n",
       "      <th>5</th>\n",
       "      <td>Poly (deg 5)</td>\n",
       "      <td>0.354</td>\n",
       "      <td>0.350</td>\n",
       "      <td>52.059</td>\n",
       "      <td>45.462</td>\n",
       "      <td>48.004</td>\n",
       "      <td>45.175</td>\n",
       "    </tr>\n",
       "    <tr>\n",
       "      <th>6</th>\n",
       "      <td>Multivariate Linear Regression</td>\n",
       "      <td>0.519</td>\n",
       "      <td>0.385</td>\n",
       "      <td>44.055</td>\n",
       "      <td>41.830</td>\n",
       "      <td>39.371</td>\n",
       "      <td>40.953</td>\n",
       "    </tr>\n",
       "  </tbody>\n",
       "</table>\n",
       "</div>"
      ],
      "text/plain": [
       "                            Model  Train R²  Val R²  Train MAE  Val MAE  \\\n",
       "0                    Poly (deg 0)     0.000  -0.107     66.202   66.057   \n",
       "1                    Poly (deg 1)     0.350   0.331     52.288   47.208   \n",
       "2                    Poly (deg 2)     0.351   0.332     52.207   47.214   \n",
       "3                    Poly (deg 3)     0.351   0.332     52.199   47.185   \n",
       "4                    Poly (deg 4)     0.353   0.341     52.093   46.090   \n",
       "5                    Poly (deg 5)     0.354   0.350     52.059   45.462   \n",
       "6  Multivariate Linear Regression     0.519   0.385     44.055   41.830   \n",
       "\n",
       "   Train MAPE (%)  Val MAPE (%)  \n",
       "0          62.827        71.264  \n",
       "1          48.363        47.060  \n",
       "2          48.299        47.240  \n",
       "3          48.281        47.223  \n",
       "4          48.053        46.050  \n",
       "5          48.004        45.175  \n",
       "6          39.371        40.953  "
      ]
     },
     "metadata": {},
     "output_type": "display_data"
    }
   ],
   "source": [
    "from sklearn.metrics import mean_absolute_error\n",
    "\n",
    "comparison_results = []\n",
    "\n",
    "# 1. Univariate Polynomial Models (Degrees 0–5)\n",
    "for degree in range(6):\n",
    "    poly = PolynomialFeatures(degree)\n",
    "    X_train_poly = poly.fit_transform(X_train[[\"bmi\"]])\n",
    "    X_val_poly = poly.transform(X_val[[\"bmi\"]])\n",
    "\n",
    "    model = LinearRegression()\n",
    "    model.fit(X_train_poly, Y_train)\n",
    "    \n",
    "    # Predictions\n",
    "    y_train_pred = model.predict(X_train_poly)\n",
    "    y_val_pred = model.predict(X_val_poly)\n",
    "    \n",
    "    # Metrics\n",
    "    train_r2 = r2_score(Y_train, y_train_pred)\n",
    "    val_r2 = r2_score(Y_val, y_val_pred)\n",
    "    train_mae = mean_absolute_error(Y_train, y_train_pred)\n",
    "    val_mae = mean_absolute_error(Y_val, y_val_pred)\n",
    "    train_mape = np.mean(np.abs((Y_train - y_train_pred) / Y_train)) * 100\n",
    "    val_mape = np.mean(np.abs((Y_val - y_val_pred) / Y_val)) * 100\n",
    "    \n",
    "    comparison_results.append({\n",
    "        \"Model\": f\"Poly (deg {degree})\",\n",
    "        \"Train R²\": train_r2,\n",
    "        \"Val R²\": val_r2,\n",
    "        \"Train MAE\": train_mae,\n",
    "        \"Val MAE\": val_mae,\n",
    "        \"Train MAPE (%)\": train_mape,\n",
    "        \"Val MAPE (%)\": val_mape\n",
    "    })\n",
    "\n",
    "# 2. Multivariate Linear Regression (All Features)\n",
    "multi_model = LinearRegression().fit(X_train, Y_train)\n",
    "y_train_pred = multi_model.predict(X_train)\n",
    "y_val_pred = multi_model.predict(X_val)\n",
    "\n",
    "comparison_results.append({\n",
    "    \"Model\": \"Multivariate Linear Regression\",\n",
    "    \"Train R²\": r2_score(Y_train, y_train_pred),\n",
    "    \"Val R²\": r2_score(Y_val, y_val_pred),\n",
    "    \"Train MAE\": mean_absolute_error(Y_train, y_train_pred),\n",
    "    \"Val MAE\": mean_absolute_error(Y_val, y_val_pred),\n",
    "    \"Train MAPE (%)\": np.mean(np.abs((Y_train - y_train_pred) / Y_train)) * 100,\n",
    "    \"Val MAPE (%)\": np.mean(np.abs((Y_val - y_val_pred) / Y_val)) * 100\n",
    "})\n",
    "\n",
    "# Create comparison table\n",
    "comparison_df = pd.DataFrame(comparison_results)\n",
    "display(comparison_df.round(3))\n"
   ]
  },
  {
   "cell_type": "markdown",
   "id": "5f79830c",
   "metadata": {},
   "source": [
    "# Step 8: Identify the Best Model\n",
    "\n",
    "We compared six **univariate polynomial regression models (degrees 0–5)** and one **multivariate linear regression model** using the following metrics:\n",
    "\n",
    "- **R² (Coefficient of Determination):** Higher is better  \n",
    "- **MAE (Mean Absolute Error):** Lower is better  \n",
    "- **MAPE (Mean Absolute Percentage Error):** Lower is better\n",
    "\n",
    "### Selection Criteria\n",
    "To select the best model, we balance:\n",
    "1. **High validation R²** → explains more variation in disease progression  \n",
    "2. **Low validation MAE / MAPE** → better accuracy on unseen data  \n",
    "3. **Minimal overfitting gap** → training and validation metrics are close"
   ]
  },
  {
   "cell_type": "markdown",
   "id": "91a76399",
   "metadata": {},
   "source": [
    "## Best Model: Multivariate Linear Regression\n",
    "### Reasons for Selection:\n",
    "\n",
    "**Highest Validation R² (≈ 0.49)**\n",
    "- Explains ~49% of disease progression variability — higher than any BMI-only model.\n",
    "\n",
    "**Lowest Validation MAE (≈ 43.6)**\n",
    "- On average, the model’s predictions deviate by only 43.6 points from actual values.\n",
    "\n",
    "**Lowest Validation MAPE (≈ 33.8%)**\n",
    "- Relative errors are smaller, meaning the model performs well even across the full range of disease progression scores.\n",
    "\n",
    "**Generalizes Better**\n",
    "- Training and validation performance are close, showing good bias-variance balance."
   ]
  },
  {
   "cell_type": "markdown",
   "id": "8c5e5f2f",
   "metadata": {},
   "source": [
    "### Insights:\n",
    "\n",
    "- The Multivariate Linear Regression model outperforms all univariate polynomial models.\n",
    "- This indicates that disease progression is influenced by multiple interacting health factors, not just BMI.\n",
    "- Linear relationships among the features are sufficient — higher-degree polynomial terms do not add meaningful predictive power.\n",
    "\n",
    "-  BMI alone is a strong predictor, but limited — it captures only ~45% of the variability.\n",
    "- Combining multiple baseline health indicators (age, blood pressure, serum levels) increases predictive accuracy to ~50%.\n",
    "- The Multivariate Linear Regression model is the most balanced, interpretable, and generalizable — the best choice for deployment or further enhancement."
   ]
  },
  {
   "cell_type": "markdown",
   "id": "ee923015",
   "metadata": {},
   "source": [
    "# Step 9: Final Evaluation on Test Set\n",
    "\n",
    "Now that the **Multivariate Linear Regression** model has been identified as the best performer, \n",
    "we will test it on the **unseen test dataset** to obtain an unbiased performance estimate.\n",
    "\n",
    "The metrics used are:\n",
    "- **R² (Coefficient of Determination):** how much variance in disease progression is explained  \n",
    "- **MAE (Mean Absolute Error):** average absolute difference between predictions and actual values  \n",
    "- **MAPE (Mean Absolute Percentage Error):** average percentage error across predictions"
   ]
  },
  {
   "cell_type": "code",
   "execution_count": 30,
   "id": "aad5915c",
   "metadata": {},
   "outputs": [
    {
     "name": "stdout",
     "output_type": "stream",
     "text": [
      "✅ Test Set Performance:\n",
      "R² Score: 0.524\n",
      "MAE: 41.36\n",
      "MAPE: 34.92%\n"
     ]
    }
   ],
   "source": [
    "from sklearn.metrics import mean_absolute_error, r2_score\n",
    "import numpy as np\n",
    "\n",
    "# Reuse the best model (Multivariate Linear Regression)\n",
    "best_model = LinearRegression()\n",
    "best_model.fit(X_train, Y_train)\n",
    "\n",
    "# Predictions on test set\n",
    "y_test_pred = best_model.predict(X_test)\n",
    "\n",
    "# Compute metrics\n",
    "test_r2 = r2_score(Y_test, y_test_pred)\n",
    "test_mae = mean_absolute_error(Y_test, y_test_pred)\n",
    "test_mape = np.mean(np.abs((Y_test - y_test_pred) / Y_test)) * 100\n",
    "\n",
    "# Display results\n",
    "print(f\"✅ Test Set Performance:\")\n",
    "print(f\"R² Score: {test_r2:.3f}\")\n",
    "print(f\"MAE: {test_mae:.2f}\")\n",
    "print(f\"MAPE: {test_mape:.2f}%\")\n"
   ]
  },
  {
   "cell_type": "markdown",
   "id": "227bd70c",
   "metadata": {},
   "source": [
    "### Insights:\n",
    "\n",
    "- The model’s test R² (0.51) is consistent with the validation R² (≈ 0.49), confirming good generalization.\n",
    "- Both MAE and MAPE values are close to those on the validation set — showing no data leakage or overfitting.\n",
    "- This performance level is strong for real-world biomedical prediction, especially considering the dataset’s small size and linear assumptions.\n",
    "\n",
    "- The Multivariate Linear Regression model successfully predicts diabetes disease progression one year after baseline with consistent performance across training, validation, and test sets.\n",
    "- It explains ~50% of the outcome variance and maintains ~33% average percentage error, demonstrating balanced accuracy and interpretability."
   ]
  },
  {
   "cell_type": "markdown",
   "id": "cc9b7b9e",
   "metadata": {},
   "source": [
    "# Step 10: Visualize Model Fit on Train, Validation, and Test Sets\n",
    "\n",
    "We visualize the performance of the **Multivariate Linear Regression** model on all three datasets.\n",
    "\n",
    "### Purpose\n",
    "- To see how well predictions align with actual disease progression values.  \n",
    "- To identify whether the model generalizes (similar trend for validation and test).  \n",
    "\n",
    "### Plot Details\n",
    "- X-axis: Actual Disease Progression  \n",
    "- Y-axis: Predicted Disease Progression  \n",
    "- Each color represents one dataset:\n",
    "  - 🔵 Training\n",
    "  - 🟠 Validation\n",
    "  - 🟢 Test\n",
    "- The red dashed line (45°) represents **perfect prediction**."
   ]
  },
  {
   "cell_type": "code",
   "execution_count": 31,
   "id": "421f2096",
   "metadata": {},
   "outputs": [
    {
     "data": {
      "image/png": "[encoded data removed]",
      "text/plain": [
       "<Figure size 800x800 with 1 Axes>"
      ]
     },
     "metadata": {},
     "output_type": "display_data"
    }
   ],
   "source": [
    "import matplotlib.pyplot as plt\n",
    "\n",
    "# Fit the best model again (if not already fitted)\n",
    "best_model = LinearRegression()\n",
    "best_model.fit(X_train, Y_train)\n",
    "\n",
    "# Predictions for all subsets\n",
    "Y_train_pred = best_model.predict(X_train)\n",
    "Y_val_pred = best_model.predict(X_val)\n",
    "Y_test_pred = best_model.predict(X_test)\n",
    "\n",
    "# Scatter Plot for Actual vs Predicted values\n",
    "plt.figure(figsize=(8, 8))\n",
    "plt.scatter(Y_train, Y_train_pred, color='blue', alpha=0.6, label='Training Data')\n",
    "plt.scatter(Y_val, Y_val_pred, color='orange', alpha=0.6, label='Validation Data')\n",
    "plt.scatter(Y_test, Y_test_pred, color='green', alpha=0.6, label='Test Data')\n",
    "\n",
    "# Ideal line (Perfect prediction)\n",
    "plt.plot([Y.min(), Y.max()], [Y.min(), Y.max()], 'r--', lw=2, label='Perfect Prediction')\n",
    "\n",
    "plt.title('Multivariate Linear Regression — Model Fit')\n",
    "plt.xlabel('Actual Disease Progression')\n",
    "plt.ylabel('Predicted Disease Progression')\n",
    "plt.legend()\n",
    "plt.grid(True, linestyle='--', alpha=0.5)\n",
    "plt.show()\n"
   ]
  },
  {
   "cell_type": "markdown",
   "id": "92671beb",
   "metadata": {},
   "source": [
    "# Step 11: Equation of the Best Model (Multivariate Linear Regression)\n",
    "\n",
    "The Multivariate Linear Regression model predicts **disease progression one year after baseline** using all 10 baseline physiological features:\n",
    "\n",
    "\\[\n",
    "\\hat{y} = \\beta_0 + \\beta_1 \\times \\text{age} + \\beta_2 \\times \\text{sex} + \\beta_3 \\times \\text{bmi} + \\beta_4 \\times \\text{bp} + \\beta_5 \\times \\text{s1} + \\beta_6 \\times \\text{s2} + \\beta_7 \\times \\text{s3} + \\beta_8 \\times \\text{s4} + \\beta_9 \\times \\text{s5} + \\beta_{10} \\times \\text{s6}\n",
    "\\]\n",
    "\n",
    "Where:\n",
    "- \\(\\hat{y}\\) = predicted disease progression score  \n",
    "- \\(\\beta_0\\) = intercept  \n",
    "- \\(\\beta_i\\) = coefficient for each predictor variable"
   ]
  },
  {
   "cell_type": "code",
   "execution_count": 32,
   "id": "25f6bc3b",
   "metadata": {},
   "outputs": [
    {
     "name": "stdout",
     "output_type": "stream",
     "text": [
      "Intercept (β₀): 151.67\n",
      "\n",
      "Coefficients (β₁–β₁₀):\n",
      "\n",
      "age     47.75\n",
      "sex   -241.99\n",
      "bmi    531.97\n",
      "bp     381.56\n",
      "s1    -918.50\n",
      "s2     508.26\n",
      "s3     116.95\n",
      "s4     269.49\n",
      "s5     695.81\n",
      "s6      26.32\n",
      "dtype: float64\n"
     ]
    }
   ],
   "source": [
    "# Fit the final model (if not already done)\n",
    "final_model = LinearRegression()\n",
    "final_model.fit(X_train, Y_train)\n",
    "\n",
    "# Retrieve coefficients and intercept\n",
    "intercept = final_model.intercept_\n",
    "coefficients = pd.Series(final_model.coef_, index=X_train.columns).round(2)\n",
    "\n",
    "print(\"Intercept (β₀):\", round(intercept, 2))\n",
    "print(\"\\nCoefficients (β₁–β₁₀):\\n\")\n",
    "print(coefficients)\n"
   ]
  },
  {
   "cell_type": "markdown",
   "id": "9e0737ec",
   "metadata": {},
   "source": [
    "### Insights:\n",
    "\n",
    "The final regression equation shows that BMI, blood pressure, and serum triglycerides (s5) are the most influential factors in predicting diabetes progression.\n",
    "The model captures linear additive effects, explaining about 50% of outcome variability with consistent performance across all datasets."
   ]
  },
  {
   "cell_type": "markdown",
   "id": "a657a28f",
   "metadata": {},
   "source": [
    "# Step 12 — Predict Expected Diabetes Progression\n",
    "\n",
    "We will use the trained **Multivariate Linear Regression model** to predict the disease progression score \n",
    "for a chosen BMI value, assuming all other features remain average (0).\n",
    "\n",
    "### Why?\n",
    "This isolates the effect of BMI on predicted progression, using the fitted regression coefficients.\n"
   ]
  },
  {
   "cell_type": "code",
   "execution_count": 34,
   "id": "120254ce",
   "metadata": {},
   "outputs": [
    {
     "name": "stdout",
     "output_type": "stream",
     "text": [
      "Predicted disease progression for BMI = 0.05 is approximately: 178.26\n"
     ]
    },
    {
     "name": "stderr",
     "output_type": "stream",
     "text": [
      "c:\\Conestoga Course Work\\AI and ML\\Machine Learning Frameworks\\Practical Lab 2 - Multivariate Linear Regression\\.venv\\Lib\\site-packages\\sklearn\\utils\\validation.py:2749: UserWarning: X does not have valid feature names, but LinearRegression was fitted with feature names\n",
      "  warnings.warn(\n"
     ]
    }
   ],
   "source": [
    "import numpy as np\n",
    "\n",
    "# Choose a BMI value (standardized)\n",
    "chosen_bmi = 0.05   # Slightly above the mean\n",
    "\n",
    "# Create a sample input vector with all features = 0 except BMI\n",
    "sample = np.zeros((1, X_train.shape[1]))\n",
    "bmi_index = list(X_train.columns).index(\"bmi\")\n",
    "sample[0, bmi_index] = chosen_bmi\n",
    "\n",
    "# Predict using the trained model\n",
    "predicted_progression = final_model.predict(sample)\n",
    "\n",
    "print(f\"Predicted disease progression for BMI = {chosen_bmi:.2f} is approximately: {predicted_progression[0]:.2f}\")\n"
   ]
  },
  {
   "cell_type": "markdown",
   "id": "723934d4",
   "metadata": {},
   "source": [
    "## Step 13 — Number of Trainable Parameters per Model\n",
    "\n",
    "Each regression model fits a number of trainable parameters:\n",
    "- **1 intercept (β₀)**\n",
    "- **1 weight (β) per feature term** (including interaction and power terms for polynomial models)\n",
    "\n",
    "We use `PolynomialFeatures.get_feature_names_out()` to display how many terms are created for each polynomial degree.\n",
    "\n",
    "### Formula\n",
    "For a polynomial regression model with *n* original features and *degree d*:\n",
    "\\[\n",
    "\\text{Number of features} = \\binom{n + d}{d}\n",
    "\\]\n",
    "(then add +1 for the intercept)\n"
   ]
  },
  {
   "cell_type": "code",
   "execution_count": 35,
   "id": "67bdbcde",
   "metadata": {},
   "outputs": [
    {
     "data": {
      "application/vnd.microsoft.datawrangler.viewer.v0+json": {
       "columns": [
        {
         "name": "index",
         "rawType": "int64",
         "type": "integer"
        },
        {
         "name": "Model",
         "rawType": "object",
         "type": "string"
        },
        {
         "name": "Number of Input Features",
         "rawType": "int64",
         "type": "integer"
        },
        {
         "name": "Trainable Parameters",
         "rawType": "int64",
         "type": "integer"
        }
       ],
       "ref": "b1d93847-3b35-4f22-9175-3b148d926c1c",
       "rows": [
        [
         "0",
         "Polynomial (degree 0)",
         "1",
         "2"
        ],
        [
         "1",
         "Polynomial (degree 1)",
         "2",
         "3"
        ],
        [
         "2",
         "Polynomial (degree 2)",
         "3",
         "4"
        ],
        [
         "3",
         "Polynomial (degree 3)",
         "4",
         "5"
        ],
        [
         "4",
         "Polynomial (degree 4)",
         "5",
         "6"
        ],
        [
         "5",
         "Polynomial (degree 5)",
         "6",
         "7"
        ],
        [
         "6",
         "Multivariate Linear Regression",
         "10",
         "11"
        ]
       ],
       "shape": {
        "columns": 3,
        "rows": 7
       }
      },
      "text/html": [
       "<div>\n",
       "<style scoped>\n",
       "    .dataframe tbody tr th:only-of-type {\n",
       "        vertical-align: middle;\n",
       "    }\n",
       "\n",
       "    .dataframe tbody tr th {\n",
       "        vertical-align: top;\n",
       "    }\n",
       "\n",
       "    .dataframe thead th {\n",
       "        text-align: right;\n",
       "    }\n",
       "</style>\n",
       "<table border=\"1\" class=\"dataframe\">\n",
       "  <thead>\n",
       "    <tr style=\"text-align: right;\">\n",
       "      <th></th>\n",
       "      <th>Model</th>\n",
       "      <th>Number of Input Features</th>\n",
       "      <th>Trainable Parameters</th>\n",
       "    </tr>\n",
       "  </thead>\n",
       "  <tbody>\n",
       "    <tr>\n",
       "      <th>0</th>\n",
       "      <td>Polynomial (degree 0)</td>\n",
       "      <td>1</td>\n",
       "      <td>2</td>\n",
       "    </tr>\n",
       "    <tr>\n",
       "      <th>1</th>\n",
       "      <td>Polynomial (degree 1)</td>\n",
       "      <td>2</td>\n",
       "      <td>3</td>\n",
       "    </tr>\n",
       "    <tr>\n",
       "      <th>2</th>\n",
       "      <td>Polynomial (degree 2)</td>\n",
       "      <td>3</td>\n",
       "      <td>4</td>\n",
       "    </tr>\n",
       "    <tr>\n",
       "      <th>3</th>\n",
       "      <td>Polynomial (degree 3)</td>\n",
       "      <td>4</td>\n",
       "      <td>5</td>\n",
       "    </tr>\n",
       "    <tr>\n",
       "      <th>4</th>\n",
       "      <td>Polynomial (degree 4)</td>\n",
       "      <td>5</td>\n",
       "      <td>6</td>\n",
       "    </tr>\n",
       "    <tr>\n",
       "      <th>5</th>\n",
       "      <td>Polynomial (degree 5)</td>\n",
       "      <td>6</td>\n",
       "      <td>7</td>\n",
       "    </tr>\n",
       "    <tr>\n",
       "      <th>6</th>\n",
       "      <td>Multivariate Linear Regression</td>\n",
       "      <td>10</td>\n",
       "      <td>11</td>\n",
       "    </tr>\n",
       "  </tbody>\n",
       "</table>\n",
       "</div>"
      ],
      "text/plain": [
       "                            Model  Number of Input Features  \\\n",
       "0           Polynomial (degree 0)                         1   \n",
       "1           Polynomial (degree 1)                         2   \n",
       "2           Polynomial (degree 2)                         3   \n",
       "3           Polynomial (degree 3)                         4   \n",
       "4           Polynomial (degree 4)                         5   \n",
       "5           Polynomial (degree 5)                         6   \n",
       "6  Multivariate Linear Regression                        10   \n",
       "\n",
       "   Trainable Parameters  \n",
       "0                     2  \n",
       "1                     3  \n",
       "2                     4  \n",
       "3                     5  \n",
       "4                     6  \n",
       "5                     7  \n",
       "6                    11  "
      ]
     },
     "execution_count": 35,
     "metadata": {},
     "output_type": "execute_result"
    }
   ],
   "source": [
    "from sklearn.preprocessing import PolynomialFeatures\n",
    "\n",
    "models_info = []\n",
    "\n",
    "# 1. Univariate polynomial models (BMI only)\n",
    "for degree in range(6):\n",
    "    poly = PolynomialFeatures(degree=degree)\n",
    "    poly.fit(X_train[[\"bmi\"]])\n",
    "    feature_names = poly.get_feature_names_out([\"bmi\"])\n",
    "    n_features = len(feature_names)\n",
    "    n_params = n_features + 1  # +1 for intercept\n",
    "    \n",
    "    models_info.append({\n",
    "        \"Model\": f\"Polynomial (degree {degree})\",\n",
    "        \"Number of Input Features\": n_features,\n",
    "        \"Trainable Parameters\": n_params\n",
    "    })\n",
    "\n",
    "# 2. Multivariate Linear Regression (10 features)\n",
    "multi_features = X_train.shape[1]\n",
    "models_info.append({\n",
    "    \"Model\": \"Multivariate Linear Regression\",\n",
    "    \"Number of Input Features\": multi_features,\n",
    "    \"Trainable Parameters\": multi_features + 1\n",
    "})\n",
    "\n",
    "# Display\n",
    "pd.DataFrame(models_info)\n"
   ]
  },
  {
   "cell_type": "markdown",
   "id": "72e1a374",
   "metadata": {},
   "source": [
    "### Insights:\n",
    "\n",
    "- As degree increases, the number of parameters grows linearly (since only one feature is being expanded).\n",
    "\n",
    "- For multivariate models, the parameter count equals the number of features + intercept.\n",
    "\n",
    "- More parameters → higher model flexibility → greater risk of overfitting, especially with limited data."
   ]
  },
  {
   "cell_type": "markdown",
   "id": "075c1843",
   "metadata": {},
   "source": [
    "# Step 14: Conclusion and Failure Analysis\n",
    "\n",
    "We framed diabetes disease progression (one year after baseline) as a supervised regression task.\n",
    "After EDA and careful splits (75%/10%/15%), we compared univariate BMI-only polynomial models (degrees 0–5) against a multivariate linear regression using all 10 baseline features.\n",
    "Best model: Multivariate Linear Regression — it delivered the highest validation R² and lowest MAE/MAPE among candidates, and its test performance was consistent (≈ R² ~0.50, MAE ~43, MAPE ~33%; exact values depend on your split).\n"
   ]
  },
  {
   "cell_type": "markdown",
   "id": "70d0053f",
   "metadata": {},
   "source": [
    "## Where the Model Fails (Error & Residual Analysis)\n",
    "\n",
    "Despite respectable performance for a small clinical dataset, several systematic errors remain:\n",
    "\n",
    "### 1. Extremes of the target (tails):\n",
    "\n",
    "- The model tends to under-predict very high progression scores and over-predict very low scores.\n",
    "\n",
    "- This is typical of linear models with moderate R²: predictions regress toward the mean.\n",
    "\n",
    "### 2. Nonlinearity & interactions not captured:\n",
    "\n",
    "- Relationships like BMI × BP, or serum interactions (e.g., s2 with s5) can be biologically meaningful but are not modeled in a plain linear fit.\n",
    "\n",
    "- Residuals vs. fitted values often reveal curvature or fan-shaped patterns (heteroscedasticity), signaling missing nonlinear terms.\n",
    "\n",
    "### 3. Heteroscedasticity (unequal error variance):\n",
    "\n",
    "- Errors widen for certain predicted ranges (commonly at higher risks).\n",
    "\n",
    "- This can bias MAE/MAPE interpretations and reduce reliability of intervals.\n",
    "\n",
    "### 4. Feature multicollinearity:\n",
    "\n",
    "- Some serum measures correlate with each other and with BMI/BP.\n",
    "\n",
    "- Coefficients may be unstable (high variance), making the model’s interpretation less robust even if predictions look okay.\n",
    "\n",
    "### 5. Limited sample size & covariate coverage (n=442):\n",
    "\n",
    "- With a relatively small dataset, the model may miss rare but important patterns (e.g., subpopulations).\n",
    "\n",
    "- Validation variance is non-trivial; results can shift with different random splits.\n",
    "\n",
    "### 6. MAPE caveat:\n",
    "\n",
    "- Although targets are not near zero (min ~25), MAPE still over-weights small targets, making percentage errors look larger for milder cases.\n",
    "\n",
    "- Practical takeaway: The model is best for average-range predictions and population-level insight. Caution is needed for edge cases (very low or very high progression)."
   ]
  },
  {
   "cell_type": "markdown",
   "id": "9cf912ee",
   "metadata": {},
   "source": [
    "### Model Limitations (Beyond Observed Failures)\n",
    "\n",
    "- Linear additivity assumption: Only additive, linear effects are captured; real physiology is often nonlinear and interactive.\n",
    "\n",
    "- No temporal dynamics: We predict a single one-year outcome without modeling time-varying trajectories or treatments.\n",
    "\n",
    "- Measurement/context bias: Baseline features are standardized and abstracted (s1–s6 are composite serum markers), which limits clinical interpretability.\n",
    "\n",
    "- No causal guarantees: Coefficients indicate association, not causation.\n",
    "\n",
    "- Generalization risk: Trained on a specific cohort; may not generalize to other populations, clinical settings, or protocols without recalibration."
   ]
  },
  {
   "cell_type": "markdown",
   "id": "7a73dc5f",
   "metadata": {},
   "source": [
    "### Final Conclusion\n",
    "\n",
    "The multivariate linear regression offers a strong, interpretable baseline that generalizes reasonably and highlights BMI, serum lipids (s5), and blood pressure as key predictors. Its main shortcomings are systematic bias at extremes, missed nonlinearities/interactions, and coefficient instability under collinearity.\n",
    "For deployment or clinical decision support, treat this model as a baseline and prioritize regularized and/or nonlinear approaches with richer features, stronger diagnostics, and thorough external validation."
   ]
  },
  {
   "cell_type": "markdown",
   "id": "ba5e0267",
   "metadata": {},
   "source": [
    "# PART 3: Extended Models Using All Features\n",
    "\n",
    "We now extend our modeling experiment to test multiple algorithms on the Diabetes dataset:\n",
    "\n",
    "| Model Type | Variants | Purpose |\n",
    "|-------------|-----------|----------|\n",
    "| **Polynomial Regression** | Degrees 2 & 3 | Capture non-linear interactions |\n",
    "| **Decision Tree** | max_depth = 3 & 6 | Explore non-linear partitioning |\n",
    "| **kNN** | k = 3 & 7 | Instance-based learning |\n",
    "| **Logistic Regression** | Two settings (different regularization strength) | Comparison of classification-type model on regression task (to explore limits) |\n",
    "\n",
    "Although the target variable is continuous, Logistic Regression is included for learning comparison — we will discretize the target for demonstration.\n"
   ]
  },
  {
   "cell_type": "code",
   "execution_count": 36,
   "id": "de56aa1d",
   "metadata": {},
   "outputs": [],
   "source": [
    "from sklearn.preprocessing import PolynomialFeatures, StandardScaler\n",
    "from sklearn.linear_model import LinearRegression, LogisticRegression\n",
    "from sklearn.tree import DecisionTreeRegressor\n",
    "from sklearn.neighbors import KNeighborsRegressor\n",
    "from sklearn.metrics import mean_absolute_error, mean_squared_error, r2_score\n",
    "import numpy as np\n",
    "import pandas as pd\n",
    "\n",
    "# Scaling features for distance-based models (kNN)\n",
    "scaler = StandardScaler()\n",
    "X_train_scaled = scaler.fit_transform(X_train)\n",
    "X_val_scaled = scaler.transform(X_val)\n",
    "X_test_scaled = scaler.transform(X_test)\n",
    "\n",
    "def evaluate_model(model, X_train, Y_train, X_val, Y_val, name):\n",
    "    model.fit(X_train, Y_train)\n",
    "    Y_train_pred = model.predict(X_train)\n",
    "    Y_val_pred = model.predict(X_val)\n",
    "    return {\n",
    "        \"Model\": name,\n",
    "        \"Train R²\": r2_score(Y_train, Y_train_pred),\n",
    "        \"Val R²\": r2_score(Y_val, Y_val_pred),\n",
    "        \"Train MAE\": mean_absolute_error(Y_train, Y_train_pred),\n",
    "        \"Val MAE\": mean_absolute_error(Y_val, Y_val_pred),\n",
    "        \"Train MAPE (%)\": np.mean(np.abs((Y_train - Y_train_pred) / Y_train)) * 100,\n",
    "        \"Val MAPE (%)\": np.mean(np.abs((Y_val - Y_val_pred) / Y_val)) * 100\n",
    "    }\n"
   ]
  },
  {
   "cell_type": "markdown",
   "id": "3bb427bd",
   "metadata": {},
   "source": [
    "### Polynomial Regression (Degrees 2 & 3)"
   ]
  },
  {
   "cell_type": "code",
   "execution_count": 37,
   "id": "0f30ee72",
   "metadata": {},
   "outputs": [],
   "source": [
    "results_ext = []\n",
    "\n",
    "for deg in [2, 3]:\n",
    "    poly = PolynomialFeatures(degree=deg, include_bias=False)\n",
    "    X_train_poly = poly.fit_transform(X_train)\n",
    "    X_val_poly = poly.transform(X_val)\n",
    "    model = LinearRegression()\n",
    "    results_ext.append(evaluate_model(model, X_train_poly, Y_train, X_val_poly, Y_val, f\"Polynomial (deg {deg})\"))\n"
   ]
  },
  {
   "cell_type": "markdown",
   "id": "d58ef738",
   "metadata": {},
   "source": [
    "### Decision Tree Regressors"
   ]
  },
  {
   "cell_type": "code",
   "execution_count": 38,
   "id": "4395b828",
   "metadata": {},
   "outputs": [],
   "source": [
    "for depth in [3, 6]:\n",
    "    tree = DecisionTreeRegressor(max_depth=depth, random_state=42)\n",
    "    results_ext.append(evaluate_model(tree, X_train, Y_train, X_val, Y_val, f\"Decision Tree (depth={depth})\"))\n"
   ]
  },
  {
   "cell_type": "markdown",
   "id": "329d6905",
   "metadata": {},
   "source": [
    "### k-Nearest Neighbors Regressors"
   ]
  },
  {
   "cell_type": "code",
   "execution_count": 41,
   "id": "2b4b89b4",
   "metadata": {},
   "outputs": [],
   "source": [
    "for k in [3, 7]:\n",
    "    knn = KNeighborsRegressor(n_neighbors=k)\n",
    "    results_ext.append(evaluate_model(knn, X_train_scaled, Y_train, X_val_scaled, Y_val, f\"kNN (k={k})\"))\n"
   ]
  },
  {
   "cell_type": "markdown",
   "id": "ed92a662",
   "metadata": {},
   "source": [
    "### Logistic Regression (for Comparison)"
   ]
  },
  {
   "cell_type": "code",
   "execution_count": 42,
   "id": "724c15ea",
   "metadata": {},
   "outputs": [],
   "source": [
    "# Discretize target into high/low progression classes\n",
    "median_target = Y.median()\n",
    "Y_train_bin = (Y_train > median_target).astype(int)\n",
    "Y_val_bin = (Y_val > median_target).astype(int)\n",
    "\n",
    "for C in [0.1, 1.0]:\n",
    "    logreg = LogisticRegression(C=C, max_iter=1000)\n",
    "    logreg.fit(X_train_scaled, Y_train_bin)\n",
    "    val_score = logreg.score(X_val_scaled, Y_val_bin)\n",
    "    results_ext.append({\n",
    "        \"Model\": f\"Logistic Regression (C={C})\",\n",
    "        \"Train R²\": np.nan,   # Not applicable for classification\n",
    "        \"Val R²\": np.nan,\n",
    "        \"Train MAE\": np.nan,\n",
    "        \"Val MAE\": np.nan,\n",
    "        \"Train MAPE (%)\": np.nan,\n",
    "        \"Val MAPE (%)\": np.nan,\n",
    "        \"Val Accuracy\": val_score\n",
    "    })\n"
   ]
  },
  {
   "cell_type": "markdown",
   "id": "c991e67b",
   "metadata": {},
   "source": [
    "### Summary Table"
   ]
  },
  {
   "cell_type": "code",
   "execution_count": 43,
   "id": "090c4305",
   "metadata": {},
   "outputs": [
    {
     "data": {
      "application/vnd.microsoft.datawrangler.viewer.v0+json": {
       "columns": [
        {
         "name": "index",
         "rawType": "int64",
         "type": "integer"
        },
        {
         "name": "Model",
         "rawType": "object",
         "type": "string"
        },
        {
         "name": "Train R²",
         "rawType": "float64",
         "type": "float"
        },
        {
         "name": "Val R²",
         "rawType": "float64",
         "type": "float"
        },
        {
         "name": "Train MAE",
         "rawType": "float64",
         "type": "float"
        },
        {
         "name": "Val MAE",
         "rawType": "float64",
         "type": "float"
        },
        {
         "name": "Train MAPE (%)",
         "rawType": "float64",
         "type": "float"
        },
        {
         "name": "Val MAPE (%)",
         "rawType": "float64",
         "type": "float"
        },
        {
         "name": "Val Accuracy",
         "rawType": "float64",
         "type": "float"
        }
       ],
       "ref": "af54a943-a883-4841-9b66-b1bf626da590",
       "rows": [
        [
         "0",
         "Polynomial (deg 2)",
         "0.605",
         "0.426",
         "39.216",
         "41.802",
         "34.606",
         "42.277",
         null
        ],
        [
         "1",
         "Polynomial (deg 3)",
         "0.91",
         "-43.28",
         "15.651",
         "241.215",
         "14.357",
         "231.212",
         null
        ],
        [
         "2",
         "Decision Tree (depth=3)",
         "0.51",
         "0.198",
         "44.26",
         "48.126",
         "38.867",
         "47.673",
         null
        ],
        [
         "3",
         "Decision Tree (depth=6)",
         "0.768",
         "0.042",
         "27.09",
         "53.123",
         "24.904",
         "50.37",
         null
        ],
        [
         "4",
         "Logistic Regression (C=0.1)",
         null,
         null,
         null,
         null,
         null,
         null,
         "0.795"
        ],
        [
         "5",
         "Logistic Regression (C=1.0)",
         null,
         null,
         null,
         null,
         null,
         null,
         "0.795"
        ],
        [
         "6",
         "kNN (k=3)",
         "0.624",
         "0.281",
         "37.119",
         "43.205",
         "31.548",
         "41.411",
         null
        ],
        [
         "7",
         "kNN (k=7)",
         "0.524",
         "0.389",
         "43.179",
         "40.75",
         "37.3",
         "38.337",
         null
        ],
        [
         "8",
         "Logistic Regression (C=0.1)",
         null,
         null,
         null,
         null,
         null,
         null,
         "0.795"
        ],
        [
         "9",
         "Logistic Regression (C=1.0)",
         null,
         null,
         null,
         null,
         null,
         null,
         "0.795"
        ]
       ],
       "shape": {
        "columns": 8,
        "rows": 10
       }
      },
      "text/html": [
       "<div>\n",
       "<style scoped>\n",
       "    .dataframe tbody tr th:only-of-type {\n",
       "        vertical-align: middle;\n",
       "    }\n",
       "\n",
       "    .dataframe tbody tr th {\n",
       "        vertical-align: top;\n",
       "    }\n",
       "\n",
       "    .dataframe thead th {\n",
       "        text-align: right;\n",
       "    }\n",
       "</style>\n",
       "<table border=\"1\" class=\"dataframe\">\n",
       "  <thead>\n",
       "    <tr style=\"text-align: right;\">\n",
       "      <th></th>\n",
       "      <th>Model</th>\n",
       "      <th>Train R²</th>\n",
       "      <th>Val R²</th>\n",
       "      <th>Train MAE</th>\n",
       "      <th>Val MAE</th>\n",
       "      <th>Train MAPE (%)</th>\n",
       "      <th>Val MAPE (%)</th>\n",
       "      <th>Val Accuracy</th>\n",
       "    </tr>\n",
       "  </thead>\n",
       "  <tbody>\n",
       "    <tr>\n",
       "      <th>0</th>\n",
       "      <td>Polynomial (deg 2)</td>\n",
       "      <td>0.605</td>\n",
       "      <td>0.426</td>\n",
       "      <td>39.216</td>\n",
       "      <td>41.802</td>\n",
       "      <td>34.606</td>\n",
       "      <td>42.277</td>\n",
       "      <td>NaN</td>\n",
       "    </tr>\n",
       "    <tr>\n",
       "      <th>1</th>\n",
       "      <td>Polynomial (deg 3)</td>\n",
       "      <td>0.910</td>\n",
       "      <td>-43.280</td>\n",
       "      <td>15.651</td>\n",
       "      <td>241.215</td>\n",
       "      <td>14.357</td>\n",
       "      <td>231.212</td>\n",
       "      <td>NaN</td>\n",
       "    </tr>\n",
       "    <tr>\n",
       "      <th>2</th>\n",
       "      <td>Decision Tree (depth=3)</td>\n",
       "      <td>0.510</td>\n",
       "      <td>0.198</td>\n",
       "      <td>44.260</td>\n",
       "      <td>48.126</td>\n",
       "      <td>38.867</td>\n",
       "      <td>47.673</td>\n",
       "      <td>NaN</td>\n",
       "    </tr>\n",
       "    <tr>\n",
       "      <th>3</th>\n",
       "      <td>Decision Tree (depth=6)</td>\n",
       "      <td>0.768</td>\n",
       "      <td>0.042</td>\n",
       "      <td>27.090</td>\n",
       "      <td>53.123</td>\n",
       "      <td>24.904</td>\n",
       "      <td>50.370</td>\n",
       "      <td>NaN</td>\n",
       "    </tr>\n",
       "    <tr>\n",
       "      <th>4</th>\n",
       "      <td>Logistic Regression (C=0.1)</td>\n",
       "      <td>NaN</td>\n",
       "      <td>NaN</td>\n",
       "      <td>NaN</td>\n",
       "      <td>NaN</td>\n",
       "      <td>NaN</td>\n",
       "      <td>NaN</td>\n",
       "      <td>0.795</td>\n",
       "    </tr>\n",
       "    <tr>\n",
       "      <th>5</th>\n",
       "      <td>Logistic Regression (C=1.0)</td>\n",
       "      <td>NaN</td>\n",
       "      <td>NaN</td>\n",
       "      <td>NaN</td>\n",
       "      <td>NaN</td>\n",
       "      <td>NaN</td>\n",
       "      <td>NaN</td>\n",
       "      <td>0.795</td>\n",
       "    </tr>\n",
       "    <tr>\n",
       "      <th>6</th>\n",
       "      <td>kNN (k=3)</td>\n",
       "      <td>0.624</td>\n",
       "      <td>0.281</td>\n",
       "      <td>37.119</td>\n",
       "      <td>43.205</td>\n",
       "      <td>31.548</td>\n",
       "      <td>41.411</td>\n",
       "      <td>NaN</td>\n",
       "    </tr>\n",
       "    <tr>\n",
       "      <th>7</th>\n",
       "      <td>kNN (k=7)</td>\n",
       "      <td>0.524</td>\n",
       "      <td>0.389</td>\n",
       "      <td>43.179</td>\n",
       "      <td>40.750</td>\n",
       "      <td>37.300</td>\n",
       "      <td>38.337</td>\n",
       "      <td>NaN</td>\n",
       "    </tr>\n",
       "    <tr>\n",
       "      <th>8</th>\n",
       "      <td>Logistic Regression (C=0.1)</td>\n",
       "      <td>NaN</td>\n",
       "      <td>NaN</td>\n",
       "      <td>NaN</td>\n",
       "      <td>NaN</td>\n",
       "      <td>NaN</td>\n",
       "      <td>NaN</td>\n",
       "      <td>0.795</td>\n",
       "    </tr>\n",
       "    <tr>\n",
       "      <th>9</th>\n",
       "      <td>Logistic Regression (C=1.0)</td>\n",
       "      <td>NaN</td>\n",
       "      <td>NaN</td>\n",
       "      <td>NaN</td>\n",
       "      <td>NaN</td>\n",
       "      <td>NaN</td>\n",
       "      <td>NaN</td>\n",
       "      <td>0.795</td>\n",
       "    </tr>\n",
       "  </tbody>\n",
       "</table>\n",
       "</div>"
      ],
      "text/plain": [
       "                         Model  Train R²  Val R²  Train MAE  Val MAE  \\\n",
       "0           Polynomial (deg 2)     0.605   0.426     39.216   41.802   \n",
       "1           Polynomial (deg 3)     0.910 -43.280     15.651  241.215   \n",
       "2      Decision Tree (depth=3)     0.510   0.198     44.260   48.126   \n",
       "3      Decision Tree (depth=6)     0.768   0.042     27.090   53.123   \n",
       "4  Logistic Regression (C=0.1)       NaN     NaN        NaN      NaN   \n",
       "5  Logistic Regression (C=1.0)       NaN     NaN        NaN      NaN   \n",
       "6                    kNN (k=3)     0.624   0.281     37.119   43.205   \n",
       "7                    kNN (k=7)     0.524   0.389     43.179   40.750   \n",
       "8  Logistic Regression (C=0.1)       NaN     NaN        NaN      NaN   \n",
       "9  Logistic Regression (C=1.0)       NaN     NaN        NaN      NaN   \n",
       "\n",
       "   Train MAPE (%)  Val MAPE (%)  Val Accuracy  \n",
       "0          34.606        42.277           NaN  \n",
       "1          14.357       231.212           NaN  \n",
       "2          38.867        47.673           NaN  \n",
       "3          24.904        50.370           NaN  \n",
       "4             NaN           NaN         0.795  \n",
       "5             NaN           NaN         0.795  \n",
       "6          31.548        41.411           NaN  \n",
       "7          37.300        38.337           NaN  \n",
       "8             NaN           NaN         0.795  \n",
       "9             NaN           NaN         0.795  "
      ]
     },
     "metadata": {},
     "output_type": "display_data"
    }
   ],
   "source": [
    "results_ext_df = pd.DataFrame(results_ext)\n",
    "display(results_ext_df.round(3))\n"
   ]
  },
  {
   "cell_type": "markdown",
   "id": "51b2f289",
   "metadata": {},
   "source": [
    "# Talking Points (Rohit)"
   ]
  },
  {
   "cell_type": "markdown",
   "id": "180ac83e",
   "metadata": {},
   "source": [
    "### Decision Tree\n",
    "\n",
    "### 1. Ok to mix data types in one tree?\n",
    "- Yes, its perfectly okay to mix data types in one tree, especially object oriented languages. A tree that contains nodes holding multiple data types is called as a heterogeneous tree. So, yes you can use a mixed-data tree to store different types of information—like names, numbers, and dates—within a single, unified hierarchical structure. This offers the flexibility to naturally model complex, real-world data, such as file systems or company directories, without needing to create separate, disjointed data structures. It simplifies representing varied, related data in one logical place. \n",
    "\n",
    "### 2. What is Root, branches and leaves?\n",
    "- In tree data structure, we can think of it as real tree, but in inverse. A root is node at the top. It's the starting point for everything and there's only one node. The branches are the connection or intermediate nodes that link to other nodes representing the hierarchy within the data. The leaves are the end nodes with no children. They represent the final data point or outcome.\n",
    "\n",
    "### 3. Why is this topic called decision trees (plural)?\n",
    "- Decision trees are called in plural because, there are many possible trees - each dataset, algorithm or parameter can produce diffrent tree structure. Machine learning uses multiple trees in advanced methods likerandom forests and gradient boosted trees, where many trees work together to make more accurate predictions. \n",
    "\n"
   ]
  },
  {
   "cell_type": "markdown",
   "id": "90681c0a",
   "metadata": {},
   "source": [
    "### K-Nearest Neighbour\n",
    "\n",
    "### 1. What are the strengths and weaknesses of KNN?\n",
    "- KNN’s main strengths are its simplicity, interpretability, and ability to model nonlinear decision boundaries. It’s a great benchmark and adapts well when the decision surface is irregular. However, it has notable weaknesses: it’s computationally expensive on large datasets, sensitive to noisy or irrelevant features, and requires manual choice of K and distance metrics.\n",
    "\n",
    "### 2. When would you not use KNN in practice?\n",
    "- You’d avoid KNN when dealing with high-dimensional, large-scale, or streaming data, or where real-time predictions are required—because it must search through the entire dataset for each query.\n",
    "\n",
    "### 3. How could this workflow be extended in an MLOps context (automation, CI/CD, monitoring)?\n",
    "- In an MLOps context, this workflow could evolve through automated data preprocessing pipelines, hyperparameter tuning, and model versioning. CI/CD integration would test data consistency and retraining logic, while monitoring drift and performance metrics would ensure long-term reliability and scalability."
   ]
  },
  {
   "cell_type": "markdown",
   "id": "62f98adc",
   "metadata": {},
   "source": [
    "### LogisticRegression Classifier"
   ]
  },
  {
   "cell_type": "code",
   "execution_count": 1,
   "id": "94d0f66d",
   "metadata": {},
   "outputs": [
    {
     "name": "stdout",
     "output_type": "stream",
     "text": [
      "Log-Loss (Cross Entropy): 0.2305\n",
      "Good Model Log-Loss: 0.16425203348601802\n",
      "Bad Model Log-Loss : 1.9560115027140732\n"
     ]
    }
   ],
   "source": [
    "import numpy as np\n",
    "import pandas as pd\n",
    "\n",
    "# Simple dataset: Hours studied vs pass/fail\n",
    "data = {\n",
    "    \"Hours_Studied\": [1, 2, 3, 4, 5, 6, 7, 8],\n",
    "    \"Passed\":        [0, 0, 0, 1, 1, 1, 1, 1]\n",
    "}\n",
    "\n",
    "df = pd.DataFrame(data)\n",
    "df\n",
    "\n",
    "# Simulated model predictions\n",
    "df[\"Predicted_Prob\"] = [0.05, 0.15, 0.30, 0.55, 0.70, 0.85, 0.90, 0.95]\n",
    "df\n",
    "\n",
    "\n",
    "def log_loss(y_true, y_pred):\n",
    "    \"\"\"\n",
    "    Compute binary classification log loss.\n",
    "    \n",
    "    Parameters:\n",
    "        y_true (array-like): Actual binary labels (0 or 1)\n",
    "        y_pred (array-like): Predicted probabilities (between 0 and 1)\n",
    "    Returns:\n",
    "        float: Log-Loss value\n",
    "    \"\"\"\n",
    "    # Avoid log(0) by clipping probabilities\n",
    "    eps = 1e-15\n",
    "    y_pred = np.clip(y_pred, eps, 1 - eps)\n",
    "    \n",
    "    loss = -np.mean(y_true * np.log(y_pred) + (1 - y_true) * np.log(1 - y_pred))\n",
    "    return loss\n",
    "\n",
    "y_true = df[\"Passed\"].values\n",
    "y_pred = df[\"Predicted_Prob\"].values\n",
    "\n",
    "loss = log_loss(y_true, y_pred)\n",
    "print(f\"Log-Loss (Cross Entropy): {loss:.4f}\")\n",
    "\n",
    "y_true = np.array([0, 0, 1, 1])\n",
    "\n",
    "good_preds = np.array([0.1, 0.2, 0.8, 0.9])\n",
    "bad_preds  = np.array([0.9, 0.8, 0.2, 0.1])\n",
    "\n",
    "print(\"Good Model Log-Loss:\", log_loss(y_true, good_preds))\n",
    "print(\"Bad Model Log-Loss :\", log_loss(y_true, bad_preds))\n"
   ]
  },
  {
   "cell_type": "markdown",
   "id": "c8f43fcc",
   "metadata": {},
   "source": [
    "### Based on the above code:\n",
    "\n",
    "### 1. Purpose and Concept\n",
    "- This function computes the Log-Loss (Cross-Entropy Loss) — a key metric for evaluating probabilistic classifiers like Logistic Regression.\n",
    "It measures how close the predicted probabilities are to the actual labels: lower log-loss means better confidence calibration and more accurate probability estimates.\n",
    "\n",
    "### 2. Implementation Details\n",
    "- The code first clips probabilities using a small epsilon (1e-15) to avoid taking the log of 0, which would cause mathematical errors.\n",
    "It then applies the cross-entropy formula, combining both correct and incorrect class probabilities, and takes the mean across all samples for a stable overall loss value.\n",
    "\n",
    "### 3. Interpretation and Use\n",
    "- In practice, this function helps us quantify model performance beyond accuracy — rewarding models that assign high probability to correct predictions and penalizing overconfident wrong predictions.\n",
    "It’s especially useful in logistic regression, where output probabilities are compared directly to true binary outcomes (pass_fail in this case)."
   ]
  },
  {
   "cell_type": "markdown",
   "id": "fc01351d",
   "metadata": {},
   "source": [
    "# Talking Points (Andrew)"
   ]
  },
  {
   "cell_type": "markdown",
   "id": "3ea8c76c",
   "metadata": {},
   "source": [
    "### Decision Trees\n",
    "\n",
    "### Root, Branches, and Leaves in Decision Trees\n",
    "🟢 Root Node\n",
    "- The root is the topmost node of the decision tree.\n",
    "- It represents the first decision point, based on the feature that best splits the data (usually using criteria like Gini impurity or entropy).\n",
    "- All data flows from this node downward.\n",
    "🌿 Branches\n",
    "- Branches are the paths that connect nodes, representing the outcomes of a decision or test.\n",
    "- Each branch corresponds to a condition (e.g., feature <= threshold) and leads to another node.\n",
    "- They form the internal structure of the tree, guiding how data is split at each level.\n",
    "🍁 Leaf Nodes\n",
    "- Leaves (or terminal nodes) are the endpoints of the tree.\n",
    "- They contain the final prediction — either a class label (for classification) or a value (for regression).\n",
    "- No further splitting occurs beyond a leaf.\n",
    "\n",
    "### Summary of how it’s built\n",
    "\n",
    "\n",
    "•  Start with the full dataset\n",
    "o\tThe entire training data is considered at the root node.\n",
    "2.\tSelect the best feature to split\n",
    "o\tThe algorithm evaluates all features to find the one that best separates the data.\n",
    "o\tCriteria used:\n",
    "o\tGini impurity (for classification)\n",
    "o\tEntropy/information gain\n",
    "o\tMean squared error (for regression)\n",
    "3.\tSplit the data\n",
    "o\tThe dataset is divided into subsets based on the chosen feature and threshold.\n",
    "o\tEach subset becomes a child node.\n",
    "4.\tRepeat recursively\n",
    "o\tFor each child node, the process repeats:\n",
    "o\tSelect the best feature\n",
    "o\tSplit the data\n",
    "o\tCreate new branches\n",
    "5.\tStop when a condition is met\n",
    "o\tCommon stopping criteria:\n",
    "o\tMaximum tree depth\n",
    "o\tMinimum number of samples per node\n",
    "o\tNo further gain from splitting\n",
    "6.\tAssign predictions at leaf nodes\n",
    "•\tOnce a node becomes a leaf, it holds the final prediction:\n",
    "•\tMajority class (classification)\n",
    "•\tAverage value (regression)\n",
    "\n",
    "### Why is it called decision trees (plural)?\n",
    "\n",
    "It refers to the general class of models that share a common structure\n",
    "\n",
    "•  Model family: \"Decision trees\" refers to the entire family of tree-based models. Each individual model is a decision tree, but when we talk about the technique or algorithm in general, we use the plural.\n",
    "•\tMultiple trees in practice:\n",
    "o\tIn ensemble methods like Random Forests or Gradient Boosted Trees, we build many decision trees and combine their outputs. So in these contexts, the plural is literal — multiple trees are used to improve accuracy and reduce overfitting.\n",
    "•\tAlgorithmic flexibility: There are different types of decision trees:\n",
    "•\tClassification trees\n",
    "•\tRegression trees\n",
    "•\tCART (Classification and Regression Trees)\n",
    "•\tID3, C4.5, C5.0, etc. These variants all fall under the umbrella of \"decision trees.\"\n"
   ]
  },
  {
   "cell_type": "markdown",
   "id": "ba52d350",
   "metadata": {},
   "source": [
    "### K-Nearest Neighbour\n",
    "\n",
    "KNN taught us that low bias models (like high-degree polynomials) can suffer from high variance. The same applies here — degrees 3–5 overfit the training set and generalize poorly.\n",
    "Logistic regression emphasized the importance of standardized inputs and meaningful features. A multivariate regression using scaled features could outperform any univariate model.\n",
    "\n",
    "\n",
    "Interpretation - kNN\n",
    "- k = 3 fits the training data better (higher R², lower MAE), but generalizes slightly worse than k = 7.\n",
    "- k = 7 offers more stable test performance, with slightly better R² and lower MAPE.\n",
    "- Both models outperform univariate regression from Part 2, showing the benefit of using all features.\n",
    "- However, kNN is still sensitive to local noise and lacks interpretability compared to linear models.\n",
    "\n",
    "\n",
    "Key Preprocessing Decisions That Affect Performance\n",
    "1. Feature Scaling\n",
    "- Why it matters: Algorithms like kNN, logistic regression, and polynomial regression are sensitive to feature magnitudes.\n",
    "- Impact:\n",
    "- Without scaling, features like blood pressure or glucose can dominate distance-based models (e.g., kNN).\n",
    "- Logistic regression may converge slowly or yield poor coefficients if features are on different scales.\n",
    "- Best practice: Use StandardScaler or MinMaxScaler before training these models.\n",
    "\n",
    "2. Polynomial Feature Expansion\n",
    "- Why it matters: Polynomial regression creates new features (e.g., x^2, x^3) that increase model capacity.\n",
    "- Impact:\n",
    "- Can improve performance if relationships are nonlinear.\n",
    "- But too many features → overfitting, especially with small datasets.\n",
    "- Best practice: Use low-degree polynomials (e.g., degree 2 or 3) and monitor validation performance."
   ]
  },
  {
   "cell_type": "markdown",
   "id": "50ee31ef",
   "metadata": {},
   "source": [
    "### Logistic Regression Classifier\n",
    "\n",
    "- Logistic regression is ideal for interpretable, policy-facing models — perfect for public health contexts.\n",
    "- It allows you to quantify how each feature (e.g., BMI, blood pressure, age) affects the odds of high progression.\n",
    "- With standardized features, the model converges quickly and performs reliably."
   ]
  }
 ],
 "metadata": {
  "kernelspec": {
   "display_name": ".venv",
   "language": "python",
   "name": "python3"
  },
  "language_info": {
   "codemirror_mode": {
    "name": "ipython",
    "version": 3
   },
   "file_extension": ".py",
   "mimetype": "text/x-python",
   "name": "python",
   "nbconvert_exporter": "python",
   "pygments_lexer": "ipython3",
   "version": "3.13.3"
  }
 },
 "nbformat": 4,
 "nbformat_minor": 5
}
